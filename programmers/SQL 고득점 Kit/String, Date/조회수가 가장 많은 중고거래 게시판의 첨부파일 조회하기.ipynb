{
 "cells": [
  {
   "cell_type": "code",
   "execution_count": null,
   "id": "8190cbf6",
   "metadata": {
    "vscode": {
     "languageId": "sql"
    }
   },
   "outputs": [],
   "source": [
    "SELECT\n",
    "    CONCAT(\n",
    "        '/home/grep/src/', B.BOARD_ID, '/', F.FILE_ID, F.FILE_NAME, F.FILE_EXT) \n",
    "        AS FILE_PATH\n",
    "FROM (\n",
    "    SELECT \n",
    "        BOARD_ID, \n",
    "        VIEWS,\n",
    "        RANK() OVER (ORDER BY VIEWS DESC) AS R\n",
    "    FROM USED_GOODS_BOARD) AS B\n",
    "LEFT JOIN USED_GOODS_FILE F ON B.BOARD_ID = F.BOARD_ID\n",
    "WHERE R = 1"
   ]
  }
 ],
 "metadata": {
  "language_info": {
   "name": "python"
  }
 },
 "nbformat": 4,
 "nbformat_minor": 5
}

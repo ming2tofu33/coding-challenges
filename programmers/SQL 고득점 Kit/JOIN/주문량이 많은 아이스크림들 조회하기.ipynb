{
 "cells": [
  {
   "cell_type": "code",
   "execution_count": null,
   "id": "0c2d2e70",
   "metadata": {
    "vscode": {
     "languageId": "sql"
    }
   },
   "outputs": [],
   "source": [
    "SELECT\n",
    "    F.FLAVOR\n",
    "FROM FIRST_HALF F\n",
    "LEFT JOIN JULY J ON F.FLAVOR = J.FLAVOR\n",
    "GROUP BY FLAVOR\n",
    "ORDER BY SUM(F.TOTAL_ORDER)  DESC\n",
    "LIMIT 3"
   ]
  }
 ],
 "metadata": {
  "language_info": {
   "name": "python"
  }
 },
 "nbformat": 4,
 "nbformat_minor": 5
}

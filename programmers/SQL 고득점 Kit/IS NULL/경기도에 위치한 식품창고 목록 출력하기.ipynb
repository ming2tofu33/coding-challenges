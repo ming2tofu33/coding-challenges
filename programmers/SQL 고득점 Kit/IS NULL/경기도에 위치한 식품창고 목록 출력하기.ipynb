{
 "cells": [
  {
   "cell_type": "code",
   "execution_count": null,
   "id": "79e5c784",
   "metadata": {
    "vscode": {
     "languageId": "sql"
    }
   },
   "outputs": [],
   "source": [
    "SELECT\n",
    "    WAREHOUSE_ID,\n",
    "    WAREHOUSE_NAME,\n",
    "    ADDRESS,\n",
    "    COALESCE(FREEZER_YN, 'N') AS FREEZER_YN\n",
    "FROM FOOD_WAREHOUSE\n",
    "WHERE ADDRESS LIKE '경기도%'\n",
    "ORDER BY WAREHOUSE_ID"
   ]
  }
 ],
 "metadata": {
  "language_info": {
   "name": "python"
  }
 },
 "nbformat": 4,
 "nbformat_minor": 5
}

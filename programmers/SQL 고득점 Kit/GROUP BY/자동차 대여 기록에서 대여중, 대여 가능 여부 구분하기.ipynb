{
 "cells": [
  {
   "cell_type": "code",
   "execution_count": null,
   "id": "ee605a9a",
   "metadata": {
    "vscode": {
     "languageId": "sql"
    }
   },
   "outputs": [],
   "source": [
    "SELECT\n",
    "  CAR_ID,\n",
    "  CASE\n",
    "    WHEN MAX(\n",
    "        CASE \n",
    "            WHEN '2022-10-16' BETWEEN START_DATE AND END_DATE \n",
    "            THEN 1 ELSE 0 END) = 1 THEN '대여중'\n",
    "            ELSE '대여 가능'\n",
    "        END AS AVAILABILITY\n",
    "FROM CAR_RENTAL_COMPANY_RENTAL_HISTORY\n",
    "GROUP BY CAR_ID\n",
    "ORDER BY CAR_ID DESC;"
   ]
  }
 ],
 "metadata": {
  "language_info": {
   "name": "python"
  }
 },
 "nbformat": 4,
 "nbformat_minor": 5
}

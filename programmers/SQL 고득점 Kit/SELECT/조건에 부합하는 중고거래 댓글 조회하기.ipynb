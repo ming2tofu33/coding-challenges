{
 "cells": [
  {
   "cell_type": "code",
   "execution_count": null,
   "id": "dff2b2f6",
   "metadata": {
    "vscode": {
     "languageId": "sql"
    }
   },
   "outputs": [],
   "source": [
    "SELECT\n",
    "    B.TITLE, \n",
    "    B.BOARD_ID, \n",
    "    R.REPLY_ID, \n",
    "    R.WRITER_ID, \n",
    "    R.CONTENTS, \n",
    "    DATE_FORMAT(R.CREATED_DATE, '%Y-%m-%d') AS CREATED_DATE\n",
    "FROM USED_GOODS_BOARD B\n",
    "INNER JOIN USED_GOODS_REPLY R ON B.BOARD_ID = R.BOARD_ID\n",
    "WHERE B.CREATED_DATE LIKE '2022-10%'\n",
    "ORDER BY R.CREATED_DATE, B.TITLE"
   ]
  }
 ],
 "metadata": {
  "kernelspec": {
   "display_name": "Python 3",
   "language": "python",
   "name": "python3"
  },
  "language_info": {
   "codemirror_mode": {
    "name": "ipython",
    "version": 3
   },
   "file_extension": ".py",
   "mimetype": "text/x-python",
   "name": "python",
   "nbconvert_exporter": "python",
   "pygments_lexer": "ipython3",
   "version": "3.13.4"
  }
 },
 "nbformat": 4,
 "nbformat_minor": 5
}

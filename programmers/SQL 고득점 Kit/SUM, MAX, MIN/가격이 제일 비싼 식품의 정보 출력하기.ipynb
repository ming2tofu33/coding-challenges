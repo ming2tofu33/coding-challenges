{
 "cells": [
  {
   "cell_type": "code",
   "execution_count": null,
   "id": "a7e1dd90",
   "metadata": {
    "vscode": {
     "languageId": "sql"
    }
   },
   "outputs": [],
   "source": [
    "SELECT\n",
    "    *\n",
    "FROM FOOD_PRODUCT\n",
    "WHERE PRICE = (SELECT MAX(PRICE)FROM FOOD_PRODUCT);\n",
    "-- ORDER BY PRICE DESC\n",
    "-- LIMIT 1;"
   ]
  }
 ],
 "metadata": {
  "language_info": {
   "name": "python"
  }
 },
 "nbformat": 4,
 "nbformat_minor": 5
}

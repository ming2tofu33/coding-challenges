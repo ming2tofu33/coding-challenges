{
 "cells": [
  {
   "cell_type": "code",
   "execution_count": 1,
   "id": "d13c0d8d",
   "metadata": {},
   "outputs": [],
   "source": [
    "def solution(s):\n",
    "    nums = {\n",
    "        'zero': '0', 'one': '1', 'two': '2',\n",
    "        'three': '3', 'four': '4', 'five': '5',\n",
    "        'six': '6', 'seven': '7', 'eight': '8', 'nine': '9'\n",
    "    }\n",
    "\n",
    "    for n in nums:\n",
    "        s = s.replace(n, nums[n])\n",
    "\n",
    "    return int(s)"
   ]
  },
  {
   "cell_type": "code",
   "execution_count": 2,
   "id": "baad7818",
   "metadata": {},
   "outputs": [],
   "source": [
    "def solution(s):\n",
    "    d = {'zero': '0', 'one': '1', 'two': '2', 'three': '3', 'four': '4', 'five': '5', 'six': '6', 'seven': '7', 'eight': '8', 'nine': '9'}\n",
    "    num = ''\n",
    "    answer = ''\n",
    "    \n",
    "    for i in s:\n",
    "        if i.isdigit():\n",
    "            answer += i\n",
    "        else:\n",
    "            num += i\n",
    "            if num in d:\n",
    "                answer += d[num]\n",
    "                num = ''\n",
    "    \n",
    "    return int(answer)"
   ]
  }
 ],
 "metadata": {
  "kernelspec": {
   "display_name": "Python 3",
   "language": "python",
   "name": "python3"
  },
  "language_info": {
   "codemirror_mode": {
    "name": "ipython",
    "version": 3
   },
   "file_extension": ".py",
   "mimetype": "text/x-python",
   "name": "python",
   "nbconvert_exporter": "python",
   "pygments_lexer": "ipython3",
   "version": "3.13.4"
  }
 },
 "nbformat": 4,
 "nbformat_minor": 5
}

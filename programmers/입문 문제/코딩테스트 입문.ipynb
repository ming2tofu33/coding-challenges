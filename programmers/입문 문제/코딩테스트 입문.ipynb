{
 "cells": [
  {
   "cell_type": "code",
   "execution_count": 7,
   "id": "3f00b8b7",
   "metadata": {},
   "outputs": [
    {
     "name": "stdout",
     "output_type": "stream",
     "text": [
      "2\n",
      "0\n"
     ]
    }
   ],
   "source": [
    "# 중복된 숫자 개수\n",
    "\n",
    "def solution(array, n):\n",
    "    return array.count(n)\n",
    "\n",
    "print(solution([1, 1, 2, 3, 4, 5], 1))\n",
    "print(solution([0, 2, 3, 4], 1))"
   ]
  },
  {
   "cell_type": "code",
   "execution_count": 9,
   "id": "53a1fd23",
   "metadata": {},
   "outputs": [
    {
     "name": "stdout",
     "output_type": "stream",
     "text": [
      "3\n",
      "0\n"
     ]
    }
   ],
   "source": [
    "# 머쓱이보다 키 큰 사람\n",
    "\n",
    "def solution(array, height):\n",
    "    answer = 0\n",
    "    for i in array:\n",
    "        if i > height:\n",
    "            answer += 1\n",
    "    return answer\n",
    "    # return sum(1 for a in array if a > height)\n",
    "    \n",
    "print(solution([149, 180, 192, 170], 167))\n",
    "print(solution([180, 120, 140], 190))"
   ]
  },
  {
   "cell_type": "code",
   "execution_count": 1,
   "id": "c8a1132b",
   "metadata": {},
   "outputs": [
    {
     "data": {
      "text/plain": [
       "5"
      ]
     },
     "execution_count": 1,
     "metadata": {},
     "output_type": "execute_result"
    }
   ],
   "source": [
    "# 두 수의 합 구하기\n",
    "\n",
    "def solution(num1, num2):\n",
    "    return num1 + num2\n",
    "\n",
    "solution(2, 3)"
   ]
  },
  {
   "cell_type": "code",
   "execution_count": 10,
   "id": "c7dd8f21",
   "metadata": {},
   "outputs": [
    {
     "data": {
      "text/plain": [
       "-1"
      ]
     },
     "execution_count": 10,
     "metadata": {},
     "output_type": "execute_result"
    }
   ],
   "source": [
    "# 두 수의 ck 구하기\n",
    "\n",
    "def solution(num1, num2):\n",
    "    return num1 - num2\n",
    "\n",
    "solution(2, 3)"
   ]
  }
 ],
 "metadata": {
  "kernelspec": {
   "display_name": "Python 3",
   "language": "python",
   "name": "python3"
  },
  "language_info": {
   "codemirror_mode": {
    "name": "ipython",
    "version": 3
   },
   "file_extension": ".py",
   "mimetype": "text/x-python",
   "name": "python",
   "nbconvert_exporter": "python",
   "pygments_lexer": "ipython3",
   "version": "3.13.4"
  }
 },
 "nbformat": 4,
 "nbformat_minor": 5
}

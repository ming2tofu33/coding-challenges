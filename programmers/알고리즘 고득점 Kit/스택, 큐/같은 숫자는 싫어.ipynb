{
 "cells": [
  {
   "cell_type": "code",
   "execution_count": null,
   "id": "fcdc5e1d",
   "metadata": {},
   "outputs": [],
   "source": [
    "def solution(arr):\n",
    "    answer = []\n",
    "    for i in range(len(arr)):\n",
    "        if len(answer) == 0:\n",
    "            answer.append(arr[i])\n",
    "        elif answer[-1] != arr[i]:\n",
    "            answer.append(arr[i])\n",
    "        elif arr == []:\n",
    "            return answer\n",
    "    return answer"
   ]
  }
 ],
 "metadata": {
  "language_info": {
   "name": "python"
  }
 },
 "nbformat": 4,
 "nbformat_minor": 5
}

{
 "cells": [
  {
   "cell_type": "code",
   "execution_count": null,
   "id": "f8fbcf10",
   "metadata": {},
   "outputs": [],
   "source": [
    "def solution(array, commands):\n",
    "    answer = []\n",
    "    tmp = []\n",
    "    for command in commands:\n",
    "        tmp = array[command[0] - 1: command[1]]\n",
    "        tmp.sort()\n",
    "        answer.append(tmp[command[2] - 1])\n",
    "    return answer\n",
    "    # return [sorted(array[a-1:b])[c-1] for a,b,c in commands]\n",
    "    # return list(map(lambda x:sorted(array[x[0]-1:x[1]])[x[2]-1], commands))"
   ]
  }
 ],
 "metadata": {
  "language_info": {
   "name": "python"
  }
 },
 "nbformat": 4,
 "nbformat_minor": 5
}

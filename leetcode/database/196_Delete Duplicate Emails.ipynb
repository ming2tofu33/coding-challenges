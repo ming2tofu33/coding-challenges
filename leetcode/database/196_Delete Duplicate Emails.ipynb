{
 "cells": [
  {
   "cell_type": "markdown",
   "id": "03ad55fe",
   "metadata": {},
   "source": [
    "# `196_Delete Duplicate Emails` "
   ]
  },
  {
   "cell_type": "code",
   "execution_count": 1,
   "id": "4b7c959e",
   "metadata": {},
   "outputs": [],
   "source": [
    "import pandas as pd\n",
    "\n",
    "def delete_duplicate_emails(person: pd.DataFrame) -> None:\n",
    "    person.sort_values(by='id', inplace=True)\n",
    "    person.drop_duplicates(subset='email', inplace=True)"
   ]
  }
 ],
 "metadata": {
  "kernelspec": {
   "display_name": "Python 3",
   "language": "python",
   "name": "python3"
  },
  "language_info": {
   "codemirror_mode": {
    "name": "ipython",
    "version": 3
   },
   "file_extension": ".py",
   "mimetype": "text/x-python",
   "name": "python",
   "nbconvert_exporter": "python",
   "pygments_lexer": "ipython3",
   "version": "3.13.4"
  }
 },
 "nbformat": 4,
 "nbformat_minor": 5
}

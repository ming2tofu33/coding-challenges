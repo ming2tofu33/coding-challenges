{
 "cells": [
  {
   "cell_type": "markdown",
   "id": "b8ee6c7a",
   "metadata": {},
   "source": [
    "# `1965_Employees With Missing Information`"
   ]
  },
  {
   "cell_type": "code",
   "execution_count": null,
   "id": "32e5c463",
   "metadata": {
    "vscode": {
     "languageId": "sql"
    }
   },
   "outputs": [],
   "source": [
    "-- Write your MySQL query statement below\n",
    "(SELECT e.employee_id\n",
    "FROM employees AS e LEFT JOIN salaries s ON e.employee_id = s.employee_id \n",
    "WHERE s.salary IS NULL)\n",
    "    UNION \n",
    "(SELECT s.employee_id \n",
    "FROM employees AS e RIGHT JOIN salaries s ON e.employee_id = s.employee_id \n",
    "WHERE e.name IS NULL)\n",
    "ORDER BY employee_id"
   ]
  }
 ],
 "metadata": {
  "kernelspec": {
   "display_name": "Python 3",
   "language": "python",
   "name": "python3"
  },
  "language_info": {
   "codemirror_mode": {
    "name": "ipython",
    "version": 3
   },
   "file_extension": ".py",
   "mimetype": "text/x-python",
   "name": "python",
   "nbconvert_exporter": "python",
   "pygments_lexer": "ipython3",
   "version": "3.13.4"
  }
 },
 "nbformat": 4,
 "nbformat_minor": 5
}

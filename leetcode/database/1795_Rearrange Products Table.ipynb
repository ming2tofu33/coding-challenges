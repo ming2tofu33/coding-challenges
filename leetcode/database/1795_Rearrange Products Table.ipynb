{
 "cells": [
  {
   "cell_type": "markdown",
   "id": "6fdf4717",
   "metadata": {},
   "source": [
    "# `1795_Rearrange Products Table`"
   ]
  },
  {
   "cell_type": "code",
   "execution_count": null,
   "id": "64a478de",
   "metadata": {
    "vscode": {
     "languageId": "sql"
    }
   },
   "outputs": [],
   "source": [
    "-- Write your MySQL query statement below\n",
    "SELECT \n",
    "    product_id, \n",
    "    'store1' AS store, \n",
    "    store1 AS price\n",
    "FROM Products\n",
    "WHERE store1 IS NOT NULL\n",
    "\n",
    "UNION ALL\n",
    "\n",
    "SELECT \n",
    "    product_id, \n",
    "    'store2' AS store,\n",
    "    store2 AS price\n",
    "FROM Products\n",
    "WHERE store2 IS NOT NULL\n",
    "\n",
    "UNION ALL\n",
    "\n",
    "SELECT \n",
    "    product_id, \n",
    "    'store3' AS store, \n",
    "    store3 AS price\n",
    "FROM Products\n",
    "WHERE store3 IS NOT NULL;"
   ]
  }
 ],
 "metadata": {
  "language_info": {
   "name": "python"
  }
 },
 "nbformat": 4,
 "nbformat_minor": 5
}

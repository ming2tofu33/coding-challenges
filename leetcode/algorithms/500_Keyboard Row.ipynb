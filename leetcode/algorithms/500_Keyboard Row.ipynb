{
 "cells": [
  {
   "cell_type": "markdown",
   "id": "8590ce90",
   "metadata": {},
   "source": [
    "# `500_Keyboard Row`"
   ]
  },
  {
   "cell_type": "code",
   "execution_count": 3,
   "id": "49cfd374",
   "metadata": {},
   "outputs": [],
   "source": [
    "class Solution(object):\n",
    "    def findWords(self, words):\n",
    "        \"\"\"\n",
    "        :type words: List[str]\n",
    "        :rtype: List[str]\n",
    "        \"\"\"\n",
    "        first, second, third = set(\"qwertyuiop\"), set(\"asdfghjkl\"), set(\"zxcvbnm\")\n",
    "        result = []\n",
    "\n",
    "        for word in words:\n",
    "            w = word.lower()\n",
    "            if w[0] in first:\n",
    "                row = first\n",
    "            elif w[0] in second:\n",
    "                row = second\n",
    "            else:\n",
    "                row = third\n",
    "                \n",
    "            if all(ch in row for ch in w):\n",
    "                result.append(word)\n",
    "        \n",
    "        return result\n",
    "        "
   ]
  },
  {
   "cell_type": "code",
   "execution_count": 4,
   "id": "a6b76516",
   "metadata": {},
   "outputs": [
    {
     "data": {
      "text/plain": [
       "['Alaska', 'Dad']"
      ]
     },
     "execution_count": 4,
     "metadata": {},
     "output_type": "execute_result"
    }
   ],
   "source": [
    "Solution().findWords([\"Hello\",\"Alaska\",\"Dad\",\"Peace\"])"
   ]
  }
 ],
 "metadata": {
  "kernelspec": {
   "display_name": "Python 3",
   "language": "python",
   "name": "python3"
  },
  "language_info": {
   "codemirror_mode": {
    "name": "ipython",
    "version": 3
   },
   "file_extension": ".py",
   "mimetype": "text/x-python",
   "name": "python",
   "nbconvert_exporter": "python",
   "pygments_lexer": "ipython3",
   "version": "3.13.4"
  }
 },
 "nbformat": 4,
 "nbformat_minor": 5
}

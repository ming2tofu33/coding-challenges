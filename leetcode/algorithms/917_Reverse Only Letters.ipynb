{
 "cells": [
  {
   "cell_type": "markdown",
   "id": "9334566b",
   "metadata": {},
   "source": [
    "# `917_Reverse Only Letters`"
   ]
  },
  {
   "cell_type": "code",
   "execution_count": 1,
   "id": "cb8ab89d",
   "metadata": {},
   "outputs": [],
   "source": [
    "class Solution(object):\n",
    "    def reverseOnlyLetters(self, s):\n",
    "        i = len(s) - 1\n",
    "        ns = ''\n",
    "\n",
    "        for j in s:\n",
    "            if j.isalpha():\n",
    "                while not s[i].isalpha():\n",
    "                    i -= 1\n",
    "                ns += s[i]\n",
    "                i -= 1\n",
    "            else:\n",
    "                ns += j\n",
    "        return ns"
   ]
  },
  {
   "cell_type": "code",
   "execution_count": 2,
   "id": "14b5b1a4",
   "metadata": {},
   "outputs": [
    {
     "data": {
      "text/plain": [
       "'Qedo1ct-eeLg=ntse-T!'"
      ]
     },
     "execution_count": 2,
     "metadata": {},
     "output_type": "execute_result"
    }
   ],
   "source": [
    "Solution().reverseOnlyLetters(s = \"Test1ng-Leet=code-Q!\")"
   ]
  }
 ],
 "metadata": {
  "kernelspec": {
   "display_name": "Python 3",
   "language": "python",
   "name": "python3"
  },
  "language_info": {
   "codemirror_mode": {
    "name": "ipython",
    "version": 3
   },
   "file_extension": ".py",
   "mimetype": "text/x-python",
   "name": "python",
   "nbconvert_exporter": "python",
   "pygments_lexer": "ipython3",
   "version": "3.13.4"
  }
 },
 "nbformat": 4,
 "nbformat_minor": 5
}

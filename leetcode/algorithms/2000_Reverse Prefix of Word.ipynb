{
 "cells": [
  {
   "cell_type": "code",
   "execution_count": null,
   "id": "b111e130",
   "metadata": {},
   "outputs": [],
   "source": [
    "class Solution(object):\n",
    "    def reversePrefix(self, word, ch):\n",
    "        \"\"\"\n",
    "        :type word: str\n",
    "        :type ch: str\n",
    "        :rtype: str\n",
    "        \"\"\"\n",
    "        try:\n",
    "            i = word.index(ch)\n",
    "            rev = word[i:: -1] + word[i + 1:]\n",
    "            return rev\n",
    "        except:\n",
    "            return word"
   ]
  },
  {
   "cell_type": "code",
   "execution_count": 13,
   "id": "145adbbd",
   "metadata": {},
   "outputs": [],
   "source": [
    "def reversePrefix(word, ch):\n",
    "        \"\"\"\n",
    "        :type word: str\n",
    "        :type ch: str\n",
    "        :rtype: str\n",
    "        \"\"\"\n",
    "        try:\n",
    "            i = word.index(ch)\n",
    "            rev = word[i:: -1] + word[i + 1:]\n",
    "            return rev\n",
    "        except:\n",
    "            return word"
   ]
  },
  {
   "cell_type": "code",
   "execution_count": 14,
   "id": "e8ab5d2a",
   "metadata": {},
   "outputs": [
    {
     "data": {
      "text/plain": [
       "'dcbaefd'"
      ]
     },
     "execution_count": 14,
     "metadata": {},
     "output_type": "execute_result"
    }
   ],
   "source": [
    "reversePrefix(\"abcdefd\", \"d\")"
   ]
  },
  {
   "cell_type": "code",
   "execution_count": 15,
   "id": "b25710d8",
   "metadata": {},
   "outputs": [
    {
     "data": {
      "text/plain": [
       "'abcd'"
      ]
     },
     "execution_count": 15,
     "metadata": {},
     "output_type": "execute_result"
    }
   ],
   "source": [
    "reversePrefix(\"abcd\", \"z\")"
   ]
  }
 ],
 "metadata": {
  "kernelspec": {
   "display_name": "Python 3",
   "language": "python",
   "name": "python3"
  },
  "language_info": {
   "codemirror_mode": {
    "name": "ipython",
    "version": 3
   },
   "file_extension": ".py",
   "mimetype": "text/x-python",
   "name": "python",
   "nbconvert_exporter": "python",
   "pygments_lexer": "ipython3",
   "version": "3.13.4"
  }
 },
 "nbformat": 4,
 "nbformat_minor": 5
}

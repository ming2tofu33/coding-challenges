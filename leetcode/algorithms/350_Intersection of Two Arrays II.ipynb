{
 "cells": [
  {
   "cell_type": "markdown",
   "id": "18cae17b",
   "metadata": {},
   "source": [
    "# `350_Intersection of Two Arrays II`"
   ]
  },
  {
   "cell_type": "code",
   "execution_count": 6,
   "id": "54549ded",
   "metadata": {},
   "outputs": [],
   "source": [
    "class Solution(object):\n",
    "    def intersect(self, nums1, nums2):\n",
    "        \"\"\"\n",
    "        :type nums1: List[int]\n",
    "        :type nums2: List[int]\n",
    "        :rtype: List[int]\n",
    "        \"\"\"\n",
    "        r = []\n",
    "\n",
    "        if len(nums1) <= len(nums2):\n",
    "            for i in nums1:\n",
    "                if i in nums2:\n",
    "                    r.append(i)\n",
    "                    nums2.remove(i)\n",
    "        else:\n",
    "            for i in nums2:\n",
    "                if i in nums1:\n",
    "                    r.append(i)\n",
    "                    nums1.remove(i)\n",
    "\n",
    "        return r"
   ]
  },
  {
   "cell_type": "code",
   "execution_count": 7,
   "id": "97203a69",
   "metadata": {},
   "outputs": [
    {
     "data": {
      "text/plain": [
       "[4, 9]"
      ]
     },
     "execution_count": 7,
     "metadata": {},
     "output_type": "execute_result"
    }
   ],
   "source": [
    "Solution().intersect(nums1 = [4,9,5], nums2 = [9,4,9,8,4])"
   ]
  },
  {
   "cell_type": "code",
   "execution_count": null,
   "id": "be7cd2e8",
   "metadata": {},
   "outputs": [
    {
     "name": "stdout",
     "output_type": "stream",
     "text": [
      "[2, 2]\n"
     ]
    }
   ],
   "source": [
    "nums1 = [1,2,2,1]\n",
    "nums2 = [2,2]\n",
    "r = []\n",
    "\n",
    "if len(nums1) <= len(nums2):\n",
    "    for i in nums1:\n",
    "        if i in nums2:\n",
    "            r.append(i)\n",
    "            nums2.remove(i)\n",
    "else:\n",
    "    for i in nums2:\n",
    "        if i in nums1:\n",
    "            r.append(i)\n",
    "            nums1.remove(i)\n",
    "            \n",
    "print(r)"
   ]
  },
  {
   "cell_type": "code",
   "execution_count": 8,
   "id": "b8d6f91b",
   "metadata": {},
   "outputs": [
    {
     "name": "stdout",
     "output_type": "stream",
     "text": [
      "[2, 2]\n"
     ]
    }
   ],
   "source": [
    "nums1 = [1,2,2,1]\n",
    "nums2 = [2,2]\n",
    "r = []\n",
    "\n",
    "if len(nums1) <= len(nums2):\n",
    "    for i in nums1:\n",
    "        if i in nums2:\n",
    "            r.append(nums2.pop(nums2.index(i)))\n",
    "else:\n",
    "    for i in nums2:\n",
    "        if i in nums1:\n",
    "            r.append(nums1.pop(nums1.index(i)))\n",
    "\n",
    "print(r)"
   ]
  }
 ],
 "metadata": {
  "kernelspec": {
   "display_name": "Python 3",
   "language": "python",
   "name": "python3"
  },
  "language_info": {
   "codemirror_mode": {
    "name": "ipython",
    "version": 3
   },
   "file_extension": ".py",
   "mimetype": "text/x-python",
   "name": "python",
   "nbconvert_exporter": "python",
   "pygments_lexer": "ipython3",
   "version": "3.13.3"
  }
 },
 "nbformat": 4,
 "nbformat_minor": 5
}

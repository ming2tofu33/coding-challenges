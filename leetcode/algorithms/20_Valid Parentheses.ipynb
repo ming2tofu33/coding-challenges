{
 "cells": [
  {
   "cell_type": "markdown",
   "id": "f20c9f93",
   "metadata": {},
   "source": [
    "# `20_Valid Parentheses`"
   ]
  },
  {
   "cell_type": "code",
   "execution_count": 1,
   "id": "bb0a35be",
   "metadata": {},
   "outputs": [],
   "source": [
    "class Solution(object):\n",
    "    def isValid(self, s):\n",
    "        \"\"\"\n",
    "        :type s: str\n",
    "        :rtype: bool\n",
    "        \"\"\"\n",
    "        d = {'(': ')', '[': ']', '{': '}'}\n",
    "        b = []\n",
    "        for bracket in s:\n",
    "            if bracket in d.keys():\n",
    "                b.append(bracket)\n",
    "            else:\n",
    "                try:\n",
    "                    if bracket == d[b[-1]]:\n",
    "                        b.pop()\n",
    "                    else:\n",
    "                        return False\n",
    "                except:\n",
    "                    return False\n",
    "\n",
    "        return False if b else True"
   ]
  },
  {
   "cell_type": "code",
   "execution_count": 2,
   "id": "eaa3b86d",
   "metadata": {},
   "outputs": [
    {
     "data": {
      "text/plain": [
       "False"
      ]
     },
     "execution_count": 2,
     "metadata": {},
     "output_type": "execute_result"
    }
   ],
   "source": [
    "a = Solution()\n",
    "a.isValid(\"()[]{}\")\n",
    "a.isValid(\"(]\")\n",
    "a.isValid(\"([)]\")"
   ]
  },
  {
   "cell_type": "code",
   "execution_count": 3,
   "id": "193a4541",
   "metadata": {},
   "outputs": [],
   "source": [
    "def isValid(s):\n",
    "    d = {'(': ')', '[': ']', '{': '}'}\n",
    "    b = []\n",
    "    for bracket in s:\n",
    "        if bracket in d.keys():\n",
    "            b.append(bracket)\n",
    "            print(b)\n",
    "        else:\n",
    "            try:\n",
    "                if bracket == d[b[-1]]:\n",
    "                    b.pop()\n",
    "                    print(b)\n",
    "                else:\n",
    "                    return False\n",
    "            except:\n",
    "                return False\n",
    "    print(b)\n",
    "    return False if b else True"
   ]
  },
  {
   "cell_type": "code",
   "execution_count": 6,
   "id": "2fbc5a7e",
   "metadata": {},
   "outputs": [
    {
     "name": "stdout",
     "output_type": "stream",
     "text": [
      "['(']\n",
      "['(', '(']\n",
      "['(']\n",
      "[]\n",
      "['[']\n",
      "[]\n",
      "['{']\n",
      "[]\n",
      "[]\n"
     ]
    },
    {
     "data": {
      "text/plain": [
       "True"
      ]
     },
     "execution_count": 6,
     "metadata": {},
     "output_type": "execute_result"
    }
   ],
   "source": [
    "isValid(\"(())[]{}\")"
   ]
  }
 ],
 "metadata": {
  "kernelspec": {
   "display_name": "Python 3",
   "language": "python",
   "name": "python3"
  },
  "language_info": {
   "codemirror_mode": {
    "name": "ipython",
    "version": 3
   },
   "file_extension": ".py",
   "mimetype": "text/x-python",
   "name": "python",
   "nbconvert_exporter": "python",
   "pygments_lexer": "ipython3",
   "version": "3.13.4"
  }
 },
 "nbformat": 4,
 "nbformat_minor": 5
}

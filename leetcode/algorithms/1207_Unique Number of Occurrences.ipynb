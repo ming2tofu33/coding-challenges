{
 "cells": [
  {
   "cell_type": "markdown",
   "id": "229196ea",
   "metadata": {},
   "source": [
    "# `1207_Unique Number of Occurrences`"
   ]
  },
  {
   "cell_type": "code",
   "execution_count": 2,
   "id": "947f3a3b",
   "metadata": {},
   "outputs": [],
   "source": [
    "class Solution:\n",
    "    def uniqueOccurrences(self, arr: list[int]) -> bool:\n",
    "        s = set(arr)\n",
    "        l = []\n",
    "\n",
    "        for i in s:\n",
    "            cnt = arr.count(i)\n",
    "            if cnt in l:\n",
    "                return False\n",
    "            else:\n",
    "                l.append(cnt)\n",
    "        \n",
    "        return True"
   ]
  },
  {
   "cell_type": "code",
   "execution_count": 3,
   "id": "71120016",
   "metadata": {},
   "outputs": [
    {
     "data": {
      "text/plain": [
       "True"
      ]
     },
     "execution_count": 3,
     "metadata": {},
     "output_type": "execute_result"
    }
   ],
   "source": [
    "Solution().uniqueOccurrences(arr = [-3,0,1,-3,1,1,1,-3,10,0])"
   ]
  },
  {
   "cell_type": "code",
   "execution_count": 4,
   "id": "7a7fae13",
   "metadata": {},
   "outputs": [
    {
     "data": {
      "text/plain": [
       "False"
      ]
     },
     "execution_count": 4,
     "metadata": {},
     "output_type": "execute_result"
    }
   ],
   "source": [
    "Solution().uniqueOccurrences(arr = [1,2])"
   ]
  }
 ],
 "metadata": {
  "kernelspec": {
   "display_name": "Python 3",
   "language": "python",
   "name": "python3"
  },
  "language_info": {
   "codemirror_mode": {
    "name": "ipython",
    "version": 3
   },
   "file_extension": ".py",
   "mimetype": "text/x-python",
   "name": "python",
   "nbconvert_exporter": "python",
   "pygments_lexer": "ipython3",
   "version": "3.13.4"
  }
 },
 "nbformat": 4,
 "nbformat_minor": 5
}

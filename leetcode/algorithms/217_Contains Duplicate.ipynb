{
 "cells": [
  {
   "cell_type": "markdown",
   "id": "85e74958",
   "metadata": {},
   "source": [
    "# `217_Contains Duplicate`"
   ]
  },
  {
   "cell_type": "code",
   "execution_count": null,
   "id": "cbc1c1fa",
   "metadata": {},
   "outputs": [],
   "source": [
    "class Solution:\n",
    "    def containsDuplicate(self, nums: list[int]) -> bool:\n",
    "        return len(set(nums)) != len(nums)"
   ]
  },
  {
   "cell_type": "code",
   "execution_count": null,
   "id": "d5850d92",
   "metadata": {},
   "outputs": [],
   "source": [
    "class Solution:\n",
    "    def containsDuplicate(self, nums: list[int]) -> bool:\n",
    "        cnt = {}\n",
    "        for num in nums:\n",
    "            cnt[num] = cnt.get(num, 0) + 1\n",
    "\n",
    "        return True if sum(cnt.values()) > len(cnt) else False"
   ]
  },
  {
   "cell_type": "code",
   "execution_count": 20,
   "id": "27bae7f3",
   "metadata": {},
   "outputs": [
    {
     "data": {
      "text/plain": [
       "False"
      ]
     },
     "execution_count": 20,
     "metadata": {},
     "output_type": "execute_result"
    }
   ],
   "source": [
    "Solution().containsDuplicate(nums = [1,2,3,4])"
   ]
  }
 ],
 "metadata": {
  "kernelspec": {
   "display_name": "Python 3",
   "language": "python",
   "name": "python3"
  },
  "language_info": {
   "codemirror_mode": {
    "name": "ipython",
    "version": 3
   },
   "file_extension": ".py",
   "mimetype": "text/x-python",
   "name": "python",
   "nbconvert_exporter": "python",
   "pygments_lexer": "ipython3",
   "version": "3.13.3"
  }
 },
 "nbformat": 4,
 "nbformat_minor": 5
}

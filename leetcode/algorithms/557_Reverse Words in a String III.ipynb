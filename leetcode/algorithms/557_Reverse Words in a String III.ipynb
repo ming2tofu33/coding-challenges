{
 "cells": [
  {
   "cell_type": "markdown",
   "id": "e6ea531d",
   "metadata": {},
   "source": [
    "# `557_Reverse Words in a String III`"
   ]
  },
  {
   "cell_type": "code",
   "execution_count": 9,
   "id": "f373c03f",
   "metadata": {},
   "outputs": [],
   "source": [
    "class Solution(object):\n",
    "    def reverseWords(self, s):\n",
    "        \"\"\"\n",
    "        :type s: str\n",
    "        :rtype: str\n",
    "        \"\"\"\n",
    "        return ' '.join([i[::-1] for i in s.split()])"
   ]
  },
  {
   "cell_type": "code",
   "execution_count": 10,
   "id": "58ae0d5d",
   "metadata": {},
   "outputs": [
    {
     "data": {
      "text/plain": [
       "'rM gniD'"
      ]
     },
     "execution_count": 10,
     "metadata": {},
     "output_type": "execute_result"
    }
   ],
   "source": [
    "Solution().reverseWords(s = \"Mr Ding\")"
   ]
  },
  {
   "cell_type": "code",
   "execution_count": 8,
   "id": "d8000b12",
   "metadata": {},
   "outputs": [
    {
     "name": "stdout",
     "output_type": "stream",
     "text": [
      "s'teL ekat edoCteeL tsetnoc\n"
     ]
    }
   ],
   "source": [
    "s = \"Let's take LeetCode contest\"\n",
    "\n",
    "print(' '.join([i[::-1] for i in s.split()]))"
   ]
  }
 ],
 "metadata": {
  "kernelspec": {
   "display_name": "Python 3",
   "language": "python",
   "name": "python3"
  },
  "language_info": {
   "codemirror_mode": {
    "name": "ipython",
    "version": 3
   },
   "file_extension": ".py",
   "mimetype": "text/x-python",
   "name": "python",
   "nbconvert_exporter": "python",
   "pygments_lexer": "ipython3",
   "version": "3.13.4"
  }
 },
 "nbformat": 4,
 "nbformat_minor": 5
}

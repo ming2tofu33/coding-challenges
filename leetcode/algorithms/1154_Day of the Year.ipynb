{
 "cells": [
  {
   "cell_type": "markdown",
   "id": "65cc368a",
   "metadata": {},
   "source": [
    "# `1154_Day of the Year`"
   ]
  },
  {
   "cell_type": "code",
   "execution_count": 8,
   "id": "256e26de",
   "metadata": {},
   "outputs": [],
   "source": [
    "class Solution(object):\n",
    "    def dayOfYear(self, date):\n",
    "        \"\"\"\n",
    "        :type date: str\n",
    "        :rtype: int\n",
    "        \"\"\"\n",
    "        m = {1: 31, 2:28, 3: 31, 4:30, 5:31, 6:30, 7:31, 8:31, 9:30, 10:31, 11:30, 12:31}\n",
    "        days = 0\n",
    "        year, month, day = map(int, date.split('-'))\n",
    "        \n",
    "        def is_leap_year(year):\n",
    "            if (year % 4 == 0 and year % 100 != 0) or (year % 400 == 0):\n",
    "                return True\n",
    "            else:\n",
    "                return False\n",
    "            \n",
    "        if is_leap_year(year):\n",
    "            m[2] = 29\n",
    "            \n",
    "        for d in range(1, month):\n",
    "                days += m[d]\n",
    "                \n",
    "        return days + day"
   ]
  },
  {
   "cell_type": "code",
   "execution_count": 12,
   "id": "de73e758",
   "metadata": {},
   "outputs": [
    {
     "data": {
      "text/plain": [
       "256"
      ]
     },
     "execution_count": 12,
     "metadata": {},
     "output_type": "execute_result"
    }
   ],
   "source": [
    "Solution().dayOfYear(\"2025-09-13\")"
   ]
  },
  {
   "cell_type": "code",
   "execution_count": 1,
   "id": "10c5ecc0",
   "metadata": {},
   "outputs": [
    {
     "name": "stdout",
     "output_type": "stream",
     "text": [
      "2019 1 9\n"
     ]
    }
   ],
   "source": [
    "date = \"2019-01-09\"\n",
    "\n",
    "year, month, day = map(int, date.split('-'))\n",
    "\n",
    "print(year, month, day)"
   ]
  },
  {
   "cell_type": "code",
   "execution_count": 3,
   "id": "3e00d276",
   "metadata": {},
   "outputs": [
    {
     "data": {
      "text/plain": [
       "[]"
      ]
     },
     "execution_count": 3,
     "metadata": {},
     "output_type": "execute_result"
    }
   ],
   "source": [
    "l = list(range(1,1))\n",
    "l"
   ]
  }
 ],
 "metadata": {
  "kernelspec": {
   "display_name": "Python 3",
   "language": "python",
   "name": "python3"
  },
  "language_info": {
   "codemirror_mode": {
    "name": "ipython",
    "version": 3
   },
   "file_extension": ".py",
   "mimetype": "text/x-python",
   "name": "python",
   "nbconvert_exporter": "python",
   "pygments_lexer": "ipython3",
   "version": "3.13.4"
  }
 },
 "nbformat": 4,
 "nbformat_minor": 5
}

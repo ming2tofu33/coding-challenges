{
 "cells": [
  {
   "cell_type": "markdown",
   "id": "d340359d",
   "metadata": {},
   "source": [
    "# `342_Power of Four`"
   ]
  },
  {
   "cell_type": "code",
   "execution_count": 1,
   "id": "0d78d9d5",
   "metadata": {},
   "outputs": [],
   "source": [
    "class Solution:\n",
    "    def isPowerOfFour(self, n: int) -> bool:\n",
    "        if n == 0:\n",
    "            return False\n",
    "\n",
    "        while n != 1:\n",
    "            if n % 4 != 0:\n",
    "                return False\n",
    "            \n",
    "            n /= 4\n",
    "        \n",
    "        return True"
   ]
  },
  {
   "cell_type": "code",
   "execution_count": 2,
   "id": "f130fb8c",
   "metadata": {},
   "outputs": [
    {
     "data": {
      "text/plain": [
       "True"
      ]
     },
     "execution_count": 2,
     "metadata": {},
     "output_type": "execute_result"
    }
   ],
   "source": [
    "Solution().isPowerOfFour(16)"
   ]
  },
  {
   "cell_type": "code",
   "execution_count": 3,
   "id": "0f5d1d80",
   "metadata": {},
   "outputs": [
    {
     "data": {
      "text/plain": [
       "False"
      ]
     },
     "execution_count": 3,
     "metadata": {},
     "output_type": "execute_result"
    }
   ],
   "source": [
    "Solution().isPowerOfFour(5)"
   ]
  }
 ],
 "metadata": {
  "kernelspec": {
   "display_name": "Python 3",
   "language": "python",
   "name": "python3"
  },
  "language_info": {
   "codemirror_mode": {
    "name": "ipython",
    "version": 3
   },
   "file_extension": ".py",
   "mimetype": "text/x-python",
   "name": "python",
   "nbconvert_exporter": "python",
   "pygments_lexer": "ipython3",
   "version": "3.13.3"
  }
 },
 "nbformat": 4,
 "nbformat_minor": 5
}

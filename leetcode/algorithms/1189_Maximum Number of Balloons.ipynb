{
 "cells": [
  {
   "cell_type": "markdown",
   "id": "378dce6b",
   "metadata": {},
   "source": [
    "# `1189_Maximum Number of Balloons`"
   ]
  },
  {
   "cell_type": "code",
   "execution_count": 1,
   "id": "f90c34e7",
   "metadata": {},
   "outputs": [],
   "source": [
    "class Solution(object):\n",
    "    def maxNumberOfBalloons(self, text):\n",
    "        \"\"\"\n",
    "        :type text: str\n",
    "        :rtype: int\n",
    "        \"\"\"\n",
    "        d = {'b': 0, 'a': 0, 'l': 0, 'o': 0, 'n': 0}\n",
    "        for s in d:\n",
    "            d[s] = text.count(s)\n",
    "        \n",
    "        for i in ('l', 'o'):\n",
    "            d[i] = d[i] // 2\n",
    "        \n",
    "        return min(d.values())"
   ]
  },
  {
   "cell_type": "code",
   "execution_count": 2,
   "id": "c0914732",
   "metadata": {},
   "outputs": [
    {
     "data": {
      "text/plain": [
       "2"
      ]
     },
     "execution_count": 2,
     "metadata": {},
     "output_type": "execute_result"
    }
   ],
   "source": [
    "Solution().maxNumberOfBalloons(text = \"loonbalxballpoon\"\n",
    ")"
   ]
  },
  {
   "cell_type": "code",
   "execution_count": 3,
   "id": "3c24b494",
   "metadata": {},
   "outputs": [
    {
     "data": {
      "text/plain": [
       "1"
      ]
     },
     "execution_count": 3,
     "metadata": {},
     "output_type": "execute_result"
    }
   ],
   "source": [
    "Solution().maxNumberOfBalloons(text = \"nlaebolko\")"
   ]
  }
 ],
 "metadata": {
  "kernelspec": {
   "display_name": "Python 3",
   "language": "python",
   "name": "python3"
  },
  "language_info": {
   "codemirror_mode": {
    "name": "ipython",
    "version": 3
   },
   "file_extension": ".py",
   "mimetype": "text/x-python",
   "name": "python",
   "nbconvert_exporter": "python",
   "pygments_lexer": "ipython3",
   "version": "3.13.4"
  }
 },
 "nbformat": 4,
 "nbformat_minor": 5
}

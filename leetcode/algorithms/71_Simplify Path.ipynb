{
 "cells": [
  {
   "cell_type": "markdown",
   "id": "6585da7e",
   "metadata": {},
   "source": [
    "# `71_Simplify Path`"
   ]
  },
  {
   "cell_type": "code",
   "execution_count": 55,
   "id": "37ce2166",
   "metadata": {},
   "outputs": [],
   "source": [
    "class Solution:\n",
    "    def simplifyPath(self, path: str) -> str:\n",
    "        l = path.split('/')\n",
    "\n",
    "        nl = ['']\n",
    "\n",
    "        for i in range(len(l)):\n",
    "            if l[i] == '..' and len(nl) > 1:\n",
    "                nl.pop()\n",
    "            elif l[i] in ('..', '.', ''):\n",
    "                pass\n",
    "            else:\n",
    "                nl.append(l[i])\n",
    "                \n",
    "        return '/' if len(nl) == 1 else '/'.join([i for i in nl])"
   ]
  },
  {
   "cell_type": "code",
   "execution_count": 56,
   "id": "a1445caa",
   "metadata": {},
   "outputs": [
    {
     "data": {
      "text/plain": [
       "'/home/user/Pictures'"
      ]
     },
     "execution_count": 56,
     "metadata": {},
     "output_type": "execute_result"
    }
   ],
   "source": [
    "Solution().simplifyPath(path = \"/home/user/Documents/../Pictures\")"
   ]
  },
  {
   "cell_type": "code",
   "execution_count": 57,
   "id": "ad28f006",
   "metadata": {},
   "outputs": [
    {
     "data": {
      "text/plain": [
       "'/.../b/d'"
      ]
     },
     "execution_count": 57,
     "metadata": {},
     "output_type": "execute_result"
    }
   ],
   "source": [
    "Solution().simplifyPath(path = \"/.../a/../b/c/../d/./\")"
   ]
  },
  {
   "cell_type": "code",
   "execution_count": 58,
   "id": "836593c0",
   "metadata": {},
   "outputs": [
    {
     "data": {
      "text/plain": [
       "'/a'"
      ]
     },
     "execution_count": 58,
     "metadata": {},
     "output_type": "execute_result"
    }
   ],
   "source": [
    "Solution().simplifyPath(path = \"/../../../../../a\")"
   ]
  },
  {
   "cell_type": "code",
   "execution_count": 59,
   "id": "f4aea2b9",
   "metadata": {},
   "outputs": [
    {
     "name": "stdout",
     "output_type": "stream",
     "text": [
      "['', 'a', '', 'b', '', 'c', '', '', '', '', '', 'd']\n",
      "['', 'a', 'b', 'c', 'd']\n",
      "/a/b/c/d\n"
     ]
    }
   ],
   "source": [
    "path = \"/a//b//c//////d\"\n",
    "\n",
    "l = path.split('/')\n",
    "\n",
    "nl = ['']\n",
    "\n",
    "for i in range(1, len(l)):\n",
    "    if l[i] == '..' and len(nl) > 1:\n",
    "        nl.pop()\n",
    "    elif l[i] in ('..', '.', ''):\n",
    "        pass\n",
    "    else:\n",
    "        nl.append(l[i])\n",
    "\n",
    "print(l)\n",
    "print(nl)\n",
    "print('/' if len(nl) == 1 else '/'.join([i for i in nl]))"
   ]
  }
 ],
 "metadata": {
  "kernelspec": {
   "display_name": "Python 3",
   "language": "python",
   "name": "python3"
  },
  "language_info": {
   "codemirror_mode": {
    "name": "ipython",
    "version": 3
   },
   "file_extension": ".py",
   "mimetype": "text/x-python",
   "name": "python",
   "nbconvert_exporter": "python",
   "pygments_lexer": "ipython3",
   "version": "3.13.3"
  }
 },
 "nbformat": 4,
 "nbformat_minor": 5
}

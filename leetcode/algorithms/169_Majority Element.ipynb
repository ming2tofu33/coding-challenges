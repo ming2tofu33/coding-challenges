{
 "cells": [
  {
   "cell_type": "markdown",
   "id": "3ec11823",
   "metadata": {},
   "source": [
    "# `169_Majority Element`"
   ]
  },
  {
   "cell_type": "code",
   "execution_count": null,
   "id": "5dde705c",
   "metadata": {},
   "outputs": [],
   "source": [
    "class Solution:\n",
    "    def majorityElement(self, nums: list[int]) -> int:\n",
    "        s = set(nums)\n",
    "        \n",
    "        for i in s:\n",
    "            if nums.count(i) >= len(nums) / 2:\n",
    "                return i"
   ]
  },
  {
   "cell_type": "code",
   "execution_count": 7,
   "id": "90826bea",
   "metadata": {},
   "outputs": [
    {
     "data": {
      "text/plain": [
       "2"
      ]
     },
     "execution_count": 7,
     "metadata": {},
     "output_type": "execute_result"
    }
   ],
   "source": [
    "Solution().majorityElement(nums = [2,2,1,1,1,2,2])"
   ]
  }
 ],
 "metadata": {
  "kernelspec": {
   "display_name": "Python 3",
   "language": "python",
   "name": "python3"
  },
  "language_info": {
   "codemirror_mode": {
    "name": "ipython",
    "version": 3
   },
   "file_extension": ".py",
   "mimetype": "text/x-python",
   "name": "python",
   "nbconvert_exporter": "python",
   "pygments_lexer": "ipython3",
   "version": "3.13.3"
  }
 },
 "nbformat": 4,
 "nbformat_minor": 5
}

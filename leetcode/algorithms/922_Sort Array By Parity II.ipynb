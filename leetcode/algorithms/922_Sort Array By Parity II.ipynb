{
 "cells": [
  {
   "cell_type": "markdown",
   "id": "3e25a05a",
   "metadata": {},
   "source": [
    "# `922_Sort Array By Parity II`"
   ]
  },
  {
   "cell_type": "code",
   "execution_count": 2,
   "id": "f4c6f813",
   "metadata": {},
   "outputs": [],
   "source": [
    "class Solution:\n",
    "    def sortArrayByParityII(self, nums: list[int]) -> list[int]:\n",
    "        l = [0] * len(nums)\n",
    "        e = 0\n",
    "        o = 1\n",
    "\n",
    "        for i in nums:\n",
    "            if i % 2:\n",
    "                l[o] = i\n",
    "                o += 2\n",
    "            else:\n",
    "                l[e] = i\n",
    "                e += 2\n",
    "\n",
    "        return l"
   ]
  },
  {
   "cell_type": "code",
   "execution_count": 3,
   "id": "f2bf23d8",
   "metadata": {},
   "outputs": [
    {
     "data": {
      "text/plain": [
       "[4, 5, 2, 7]"
      ]
     },
     "execution_count": 3,
     "metadata": {},
     "output_type": "execute_result"
    }
   ],
   "source": [
    "Solution().sortArrayByParityII(nums = [4,2,5,7])"
   ]
  },
  {
   "cell_type": "code",
   "execution_count": 5,
   "id": "39c08559",
   "metadata": {},
   "outputs": [
    {
     "data": {
      "text/plain": [
       "[2, 3]"
      ]
     },
     "execution_count": 5,
     "metadata": {},
     "output_type": "execute_result"
    }
   ],
   "source": [
    "Solution().sortArrayByParityII(nums= [2,3])"
   ]
  },
  {
   "cell_type": "code",
   "execution_count": 1,
   "id": "6c0c2bbb",
   "metadata": {},
   "outputs": [
    {
     "name": "stdout",
     "output_type": "stream",
     "text": [
      "[4, 5, 2, 7]\n"
     ]
    }
   ],
   "source": [
    "nums = [4,2,5,7]\n",
    "l = [0] * len(nums)\n",
    "e = 0\n",
    "o = 1\n",
    "\n",
    "for i in nums:\n",
    "    if i % 2:\n",
    "        l[o] = i\n",
    "        o += 2\n",
    "    else:\n",
    "        l[e] = i\n",
    "        e += 2\n",
    "\n",
    "print(l)"
   ]
  }
 ],
 "metadata": {
  "kernelspec": {
   "display_name": "Python 3",
   "language": "python",
   "name": "python3"
  },
  "language_info": {
   "codemirror_mode": {
    "name": "ipython",
    "version": 3
   },
   "file_extension": ".py",
   "mimetype": "text/x-python",
   "name": "python",
   "nbconvert_exporter": "python",
   "pygments_lexer": "ipython3",
   "version": "3.13.4"
  }
 },
 "nbformat": 4,
 "nbformat_minor": 5
}

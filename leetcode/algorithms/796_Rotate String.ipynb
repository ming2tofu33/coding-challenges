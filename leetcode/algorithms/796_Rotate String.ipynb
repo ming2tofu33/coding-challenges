{
 "cells": [
  {
   "cell_type": "markdown",
   "id": "3acaa280",
   "metadata": {},
   "source": [
    "# `796_Rotate String`"
   ]
  },
  {
   "cell_type": "code",
   "execution_count": 9,
   "id": "664d1976",
   "metadata": {},
   "outputs": [],
   "source": [
    "class Solution(object):\n",
    "    def rotateString(self, s, goal):\n",
    "        \"\"\"\n",
    "        :type s: str\n",
    "        :type goal: str\n",
    "        :rtype: bool\n",
    "        \"\"\"\n",
    "        length = len(s)\n",
    "        result = False\n",
    "\n",
    "        if s == goal:\n",
    "            result =  True\n",
    "        else:\n",
    "            for i in range(1, length):\n",
    "                shift = s[i:] + s[:i]\n",
    "                if shift == goal:\n",
    "                    result = True\n",
    "    \n",
    "        return result"
   ]
  },
  {
   "cell_type": "code",
   "execution_count": 10,
   "id": "8c863bcb",
   "metadata": {},
   "outputs": [
    {
     "data": {
      "text/plain": [
       "True"
      ]
     },
     "execution_count": 10,
     "metadata": {},
     "output_type": "execute_result"
    }
   ],
   "source": [
    "Solution().rotateString(s = \"abcde\", goal = \"cdeab\")"
   ]
  },
  {
   "cell_type": "code",
   "execution_count": 11,
   "id": "97b0b01f",
   "metadata": {},
   "outputs": [
    {
     "data": {
      "text/plain": [
       "False"
      ]
     },
     "execution_count": 11,
     "metadata": {},
     "output_type": "execute_result"
    }
   ],
   "source": [
    "Solution().rotateString(s = \"abcde\", goal = \"abced\")"
   ]
  },
  {
   "cell_type": "code",
   "execution_count": 5,
   "id": "0c42e800",
   "metadata": {},
   "outputs": [
    {
     "data": {
      "text/plain": [
       "('cde', 'ab')"
      ]
     },
     "execution_count": 5,
     "metadata": {},
     "output_type": "execute_result"
    }
   ],
   "source": [
    "s = \"abcde\"\n",
    "s[2:], s[: 2]"
   ]
  }
 ],
 "metadata": {
  "kernelspec": {
   "display_name": "Python 3",
   "language": "python",
   "name": "python3"
  },
  "language_info": {
   "codemirror_mode": {
    "name": "ipython",
    "version": 3
   },
   "file_extension": ".py",
   "mimetype": "text/x-python",
   "name": "python",
   "nbconvert_exporter": "python",
   "pygments_lexer": "ipython3",
   "version": "3.13.3"
  }
 },
 "nbformat": 4,
 "nbformat_minor": 5
}

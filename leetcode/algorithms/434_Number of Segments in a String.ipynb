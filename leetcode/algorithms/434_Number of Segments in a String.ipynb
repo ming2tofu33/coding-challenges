{
 "cells": [
  {
   "cell_type": "markdown",
   "id": "53dfced1",
   "metadata": {},
   "source": [
    "# `434_Number of Segments in a String`"
   ]
  },
  {
   "cell_type": "code",
   "execution_count": 1,
   "id": "a558b1d7",
   "metadata": {},
   "outputs": [],
   "source": [
    "class Solution:\n",
    "    def countSegments(self, s: str) -> int:\n",
    "        return len(s.split())"
   ]
  },
  {
   "cell_type": "code",
   "execution_count": 2,
   "id": "03d61ba5",
   "metadata": {},
   "outputs": [
    {
     "data": {
      "text/plain": [
       "5"
      ]
     },
     "execution_count": 2,
     "metadata": {},
     "output_type": "execute_result"
    }
   ],
   "source": [
    "Solution().countSegments(s = \"Hello, my name is John\")"
   ]
  },
  {
   "cell_type": "code",
   "execution_count": 3,
   "id": "98f21af9",
   "metadata": {},
   "outputs": [
    {
     "data": {
      "text/plain": [
       "1"
      ]
     },
     "execution_count": 3,
     "metadata": {},
     "output_type": "execute_result"
    }
   ],
   "source": [
    "Solution().countSegments(s = \"Hello\")"
   ]
  }
 ],
 "metadata": {
  "kernelspec": {
   "display_name": "Python 3",
   "language": "python",
   "name": "python3"
  },
  "language_info": {
   "codemirror_mode": {
    "name": "ipython",
    "version": 3
   },
   "file_extension": ".py",
   "mimetype": "text/x-python",
   "name": "python",
   "nbconvert_exporter": "python",
   "pygments_lexer": "ipython3",
   "version": "3.13.3"
  }
 },
 "nbformat": 4,
 "nbformat_minor": 5
}

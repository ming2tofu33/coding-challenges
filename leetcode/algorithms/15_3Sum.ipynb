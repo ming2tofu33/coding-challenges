{
 "cells": [
  {
   "cell_type": "markdown",
   "id": "c87cabf2",
   "metadata": {},
   "source": [
    "# `15_3Sum`"
   ]
  },
  {
   "cell_type": "code",
   "execution_count": null,
   "id": "cf533577",
   "metadata": {},
   "outputs": [],
   "source": [
    "class Solution(object):\n",
    "    def threeSum(self, nums):\n",
    "        nums.sort()\n",
    "        n = len(nums)\n",
    "        res = []\n",
    "\n",
    "        for i in range(n - 2):\n",
    "            # i 중복 제거\n",
    "            if i > 0 and nums[i] == nums[i - 1]:\n",
    "                continue\n",
    "\n",
    "            l, r = i + 1, n - 1\n",
    "            target = -nums[i]\n",
    "\n",
    "            while l < r:\n",
    "                s = nums[l] + nums[r]\n",
    "                if s == target:\n",
    "                    res.append([nums[i], nums[l], nums[r]])\n",
    "\n",
    "                    # l, r 중복 제거\n",
    "                    lv, rv = nums[l], nums[r]\n",
    "                    while l < r and nums[l] == lv:\n",
    "                        l += 1\n",
    "                    while l < r and nums[r] == rv:\n",
    "                        r -= 1\n",
    "\n",
    "                elif s < target:\n",
    "                    l += 1\n",
    "                else:\n",
    "                    r -= 1\n",
    "\n",
    "        return res\n"
   ]
  },
  {
   "cell_type": "code",
   "execution_count": 6,
   "id": "4bf15116",
   "metadata": {},
   "outputs": [
    {
     "name": "stdout",
     "output_type": "stream",
     "text": [
      "[[-1, 0, 1], [-1, -1, 2]]\n"
     ]
    }
   ],
   "source": [
    "nums = [-1,0,1,2,-1,-4]\n",
    "\n",
    "n = len(nums)\n",
    "l = []\n",
    "result = []\n",
    "\n",
    "for a in range(n):\n",
    "    for b in range(a+1, n):\n",
    "        for c in range(b+1, n):\n",
    "            s = nums[a] + nums[b] + nums[c]\n",
    "            if s == 0:\n",
    "                tmp = sorted([nums[a], nums[b], nums[c]])\n",
    "                tmp = ' '.join(str(i) for i in tmp)\n",
    "                l.append(tmp)\n",
    "\n",
    "l = set(l)\n",
    "l = list(l)\n",
    "\n",
    "for j in l:\n",
    "    result.append(list(map(int, j.split())))\n",
    "\n",
    "print(result)"
   ]
  }
 ],
 "metadata": {
  "kernelspec": {
   "display_name": "Python 3",
   "language": "python",
   "name": "python3"
  },
  "language_info": {
   "codemirror_mode": {
    "name": "ipython",
    "version": 3
   },
   "file_extension": ".py",
   "mimetype": "text/x-python",
   "name": "python",
   "nbconvert_exporter": "python",
   "pygments_lexer": "ipython3",
   "version": "3.13.4"
  }
 },
 "nbformat": 4,
 "nbformat_minor": 5
}

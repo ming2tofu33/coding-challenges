{
 "cells": [
  {
   "cell_type": "markdown",
   "id": "d1b893cb",
   "metadata": {},
   "source": [
    "# `415_Add Strings`"
   ]
  },
  {
   "cell_type": "code",
   "execution_count": 1,
   "id": "1a00aa73",
   "metadata": {},
   "outputs": [],
   "source": [
    "class Solution(object):\n",
    "    def addStrings(self, num1, num2):\n",
    "        \"\"\"\n",
    "        :type num1: str\n",
    "        :type num2: str\n",
    "        :rtype: str\n",
    "        \"\"\"\n",
    "        a = int(num1) + int(num2)\n",
    "        return str(a)"
   ]
  }
 ],
 "metadata": {
  "kernelspec": {
   "display_name": "Python 3",
   "language": "python",
   "name": "python3"
  },
  "language_info": {
   "codemirror_mode": {
    "name": "ipython",
    "version": 3
   },
   "file_extension": ".py",
   "mimetype": "text/x-python",
   "name": "python",
   "nbconvert_exporter": "python",
   "pygments_lexer": "ipython3",
   "version": "3.13.3"
  }
 },
 "nbformat": 4,
 "nbformat_minor": 5
}

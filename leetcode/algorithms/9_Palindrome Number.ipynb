{
 "cells": [
  {
   "cell_type": "markdown",
   "id": "ddc82d9d",
   "metadata": {},
   "source": [
    "# `9_Palindrome Number`"
   ]
  },
  {
   "cell_type": "code",
   "execution_count": null,
   "id": "b3b5db7a",
   "metadata": {},
   "outputs": [],
   "source": [
    "class Solution:\n",
    "    def isPalindrome(self, x: int) -> bool:\n",
    "        num = str(x)\n",
    "        left = 0\n",
    "        right = len(num) - 1 \n",
    "        is_palindrome = True\n",
    "        \n",
    "        while left < right:\n",
    "            if num[left] == num[right]:\n",
    "                left += 1\n",
    "                right -= 1\n",
    "            else:\n",
    "                is_palindrome = False\n",
    "                break\n",
    "        \n",
    "        return is_palindrome"
   ]
  },
  {
   "cell_type": "code",
   "execution_count": 1,
   "id": "3d9b5a83",
   "metadata": {},
   "outputs": [],
   "source": [
    "class Solution:\n",
    "    def isPalindrome(self, x: int) -> bool:\n",
    "        pal = str(x)[::-1]\n",
    "        return True if pal == str(x) else False"
   ]
  },
  {
   "cell_type": "code",
   "execution_count": 5,
   "id": "24f0257d",
   "metadata": {},
   "outputs": [
    {
     "data": {
      "text/plain": [
       "True"
      ]
     },
     "execution_count": 5,
     "metadata": {},
     "output_type": "execute_result"
    }
   ],
   "source": [
    "Solution().isPalindrome(x = 121)"
   ]
  },
  {
   "cell_type": "code",
   "execution_count": 7,
   "id": "13de75ac",
   "metadata": {},
   "outputs": [
    {
     "data": {
      "text/plain": [
       "False"
      ]
     },
     "execution_count": 7,
     "metadata": {},
     "output_type": "execute_result"
    }
   ],
   "source": [
    "Solution().isPalindrome(x = 10)"
   ]
  }
 ],
 "metadata": {
  "kernelspec": {
   "display_name": "Python 3",
   "language": "python",
   "name": "python3"
  },
  "language_info": {
   "codemirror_mode": {
    "name": "ipython",
    "version": 3
   },
   "file_extension": ".py",
   "mimetype": "text/x-python",
   "name": "python",
   "nbconvert_exporter": "python",
   "pygments_lexer": "ipython3",
   "version": "3.13.4"
  }
 },
 "nbformat": 4,
 "nbformat_minor": 5
}

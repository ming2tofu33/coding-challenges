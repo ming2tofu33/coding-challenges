{
 "cells": [
  {
   "cell_type": "markdown",
   "id": "e8fe01ad",
   "metadata": {},
   "source": [
    "# `258_Add Digits`"
   ]
  },
  {
   "cell_type": "code",
   "execution_count": 23,
   "id": "b6989e3e",
   "metadata": {},
   "outputs": [],
   "source": [
    "class Solution(object):\n",
    "    def addDigits(self, num):\n",
    "        \"\"\"\n",
    "        :type num: int\n",
    "        :rtype: int\n",
    "        \"\"\"\n",
    "        a = list(str(num))\n",
    "\n",
    "        while len(a) > 1:\n",
    "            a = sum(list(map(int, a)))\n",
    "            a = list(str(a))\n",
    "        \n",
    "        return int(a[0])"
   ]
  },
  {
   "cell_type": "code",
   "execution_count": 29,
   "id": "7b653343",
   "metadata": {},
   "outputs": [
    {
     "data": {
      "text/plain": [
       "2"
      ]
     },
     "execution_count": 29,
     "metadata": {},
     "output_type": "execute_result"
    }
   ],
   "source": [
    "Solution().addDigits(38)"
   ]
  },
  {
   "cell_type": "code",
   "execution_count": 24,
   "id": "853ca7fd",
   "metadata": {},
   "outputs": [
    {
     "name": "stdout",
     "output_type": "stream",
     "text": [
      "7\n"
     ]
    }
   ],
   "source": [
    "num = 3845617984651324899898978\n",
    "\n",
    "a = list(str(num))\n",
    "\n",
    "while len(a) > 1:\n",
    "    a = sum(list(map(int, a)))\n",
    "    a = list(str(a))\n",
    "print(int(a[0]))"
   ]
  }
 ],
 "metadata": {
  "kernelspec": {
   "display_name": "Python 3",
   "language": "python",
   "name": "python3"
  },
  "language_info": {
   "codemirror_mode": {
    "name": "ipython",
    "version": 3
   },
   "file_extension": ".py",
   "mimetype": "text/x-python",
   "name": "python",
   "nbconvert_exporter": "python",
   "pygments_lexer": "ipython3",
   "version": "3.13.4"
  }
 },
 "nbformat": 4,
 "nbformat_minor": 5
}

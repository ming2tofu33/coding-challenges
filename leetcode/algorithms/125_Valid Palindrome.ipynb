{
 "cells": [
  {
   "cell_type": "markdown",
   "id": "d43b589e",
   "metadata": {},
   "source": [
    "# `125_Valid Palindrome`"
   ]
  },
  {
   "cell_type": "code",
   "execution_count": 15,
   "id": "22f548bb",
   "metadata": {},
   "outputs": [],
   "source": [
    "class Solution:\n",
    "    def isPalindrome(self, s: str) -> bool:\n",
    "        w = ''\n",
    "\n",
    "        for i in s:\n",
    "            if i.isalnum():\n",
    "                w += i.lower()\n",
    "                \n",
    "        return True if w == w[::-1] else False"
   ]
  },
  {
   "cell_type": "code",
   "execution_count": 7,
   "id": "d7351649",
   "metadata": {},
   "outputs": [
    {
     "data": {
      "text/plain": [
       "True"
      ]
     },
     "execution_count": 7,
     "metadata": {},
     "output_type": "execute_result"
    }
   ],
   "source": [
    "Solution().isPalindrome(s = \"A man, a plan, a canal: Panama\")"
   ]
  },
  {
   "cell_type": "code",
   "execution_count": 8,
   "id": "048f523e",
   "metadata": {},
   "outputs": [
    {
     "data": {
      "text/plain": [
       "False"
      ]
     },
     "execution_count": 8,
     "metadata": {},
     "output_type": "execute_result"
    }
   ],
   "source": [
    "Solution().isPalindrome(s = \"race a car\")"
   ]
  },
  {
   "cell_type": "code",
   "execution_count": 9,
   "id": "e4ceb5e6",
   "metadata": {},
   "outputs": [
    {
     "data": {
      "text/plain": [
       "True"
      ]
     },
     "execution_count": 9,
     "metadata": {},
     "output_type": "execute_result"
    }
   ],
   "source": [
    "Solution().isPalindrome(s = \" \")"
   ]
  },
  {
   "cell_type": "code",
   "execution_count": 17,
   "id": "6ca7fe8c",
   "metadata": {},
   "outputs": [
    {
     "name": "stdout",
     "output_type": "stream",
     "text": [
      "amanaplanacanalpanama\n",
      "True\n"
     ]
    }
   ],
   "source": [
    "s = \"A man, a plan, a canal: Panama\"\n",
    "\n",
    "w = ''\n",
    "\n",
    "for i in s:\n",
    "    if i.isalnum():\n",
    "        w += i.lower()\n",
    "\n",
    "print(w)\n",
    "print(True if w == w[::-1] else False)"
   ]
  },
  {
   "cell_type": "code",
   "execution_count": 14,
   "id": "68ce1889",
   "metadata": {},
   "outputs": [
    {
     "data": {
      "text/plain": [
       "'12'"
      ]
     },
     "execution_count": 14,
     "metadata": {},
     "output_type": "execute_result"
    }
   ],
   "source": [
    "'12'.lower()"
   ]
  }
 ],
 "metadata": {
  "kernelspec": {
   "display_name": "Python 3",
   "language": "python",
   "name": "python3"
  },
  "language_info": {
   "codemirror_mode": {
    "name": "ipython",
    "version": 3
   },
   "file_extension": ".py",
   "mimetype": "text/x-python",
   "name": "python",
   "nbconvert_exporter": "python",
   "pygments_lexer": "ipython3",
   "version": "3.13.3"
  }
 },
 "nbformat": 4,
 "nbformat_minor": 5
}

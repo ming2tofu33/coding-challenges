{
 "cells": [
  {
   "cell_type": "markdown",
   "id": "572663d1",
   "metadata": {},
   "source": [
    "# `225_Implement Stack using Queues`"
   ]
  },
  {
   "cell_type": "code",
   "execution_count": 3,
   "id": "23550178",
   "metadata": {},
   "outputs": [],
   "source": [
    "from collections import deque\n",
    "\n",
    "class MyStack:\n",
    "\n",
    "    def __init__(self):\n",
    "        self.q = deque()\n",
    "\n",
    "    def push(self, x: int) -> None:\n",
    "        self.q.append(x)\n",
    "        for _ in range(len(self.q) - 1):\n",
    "            self.q.append(self.q.popleft())\n",
    "\n",
    "    def pop(self) -> int:\n",
    "        return self.q.popleft()\n",
    "\n",
    "    def top(self) -> int:\n",
    "        return self.q[0]\n",
    "\n",
    "    def empty(self) -> bool:\n",
    "        return len(self.q) == 0\n",
    "\n",
    "\n",
    "# Your MyStack object will be instantiated and called as such:\n",
    "# obj = MyStack()\n",
    "# obj.push(x)\n",
    "# param_2 = obj.pop()\n",
    "# param_3 = obj.top()\n",
    "# param_4 = obj.empty()"
   ]
  },
  {
   "cell_type": "code",
   "execution_count": 4,
   "id": "36315095",
   "metadata": {},
   "outputs": [
    {
     "name": "stdout",
     "output_type": "stream",
     "text": [
      "2\n",
      "2\n",
      "False\n"
     ]
    }
   ],
   "source": [
    "s = MyStack()\n",
    "s.push(1)\n",
    "s.push(2)\n",
    "print(s.top())\n",
    "print(s.pop())\n",
    "print(s.empty())"
   ]
  }
 ],
 "metadata": {
  "kernelspec": {
   "display_name": "Python 3",
   "language": "python",
   "name": "python3"
  },
  "language_info": {
   "codemirror_mode": {
    "name": "ipython",
    "version": 3
   },
   "file_extension": ".py",
   "mimetype": "text/x-python",
   "name": "python",
   "nbconvert_exporter": "python",
   "pygments_lexer": "ipython3",
   "version": "3.13.4"
  }
 },
 "nbformat": 4,
 "nbformat_minor": 5
}

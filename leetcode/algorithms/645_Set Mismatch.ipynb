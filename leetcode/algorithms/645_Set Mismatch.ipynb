{
 "cells": [
  {
   "cell_type": "markdown",
   "id": "ec40d9b8",
   "metadata": {},
   "source": [
    "# `645_Set Mismatch`"
   ]
  },
  {
   "cell_type": "code",
   "execution_count": 7,
   "id": "21b459ed",
   "metadata": {},
   "outputs": [],
   "source": [
    "class Solution:\n",
    "    def findErrorNums(self, nums: list[int]) -> list[int]:\n",
    "        missing_set = set(nums)\n",
    "        original_set = set(range(1, len(nums) + 1))\n",
    "        missing = []\n",
    "\n",
    "        for i in missing_set:\n",
    "            if nums.count(i) != 1:\n",
    "                missing.append(i)\n",
    "                break\n",
    "        \n",
    "        missing.append((original_set- missing_set).pop())\n",
    "\n",
    "        return missing"
   ]
  },
  {
   "cell_type": "code",
   "execution_count": 8,
   "id": "42ba6dc0",
   "metadata": {},
   "outputs": [
    {
     "data": {
      "text/plain": [
       "[2, 3]"
      ]
     },
     "execution_count": 8,
     "metadata": {},
     "output_type": "execute_result"
    }
   ],
   "source": [
    "Solution().findErrorNums(nums = [1,2,2,4])"
   ]
  }
 ],
 "metadata": {
  "kernelspec": {
   "display_name": "Python 3",
   "language": "python",
   "name": "python3"
  },
  "language_info": {
   "codemirror_mode": {
    "name": "ipython",
    "version": 3
   },
   "file_extension": ".py",
   "mimetype": "text/x-python",
   "name": "python",
   "nbconvert_exporter": "python",
   "pygments_lexer": "ipython3",
   "version": "3.13.4"
  }
 },
 "nbformat": 4,
 "nbformat_minor": 5
}

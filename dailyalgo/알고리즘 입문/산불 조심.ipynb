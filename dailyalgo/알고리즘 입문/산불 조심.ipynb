{
 "cells": [
  {
   "cell_type": "markdown",
   "id": "1ec2ce78",
   "metadata": {},
   "source": [
    "# `65. 산불 조심`"
   ]
  },
  {
   "cell_type": "code",
   "execution_count": 1,
   "id": "48ae3a4a",
   "metadata": {},
   "outputs": [],
   "source": [
    "def solution(mountain):\n",
    "    n = len(mountain)\n",
    "    t = 0\n",
    "    dr = [1, -1, 0, 0]\n",
    "    dc = [0, 0, -1, 1]\n",
    "    fire = []\n",
    "\n",
    "    def set_fire(fire):\n",
    "        next_fire = []\n",
    "        for location in fire:\n",
    "            r, c = location\n",
    "            for i in range(4):\n",
    "                nr = r + dr[i]\n",
    "                nc = c + dc[i]\n",
    "                if 0 <= nr < n and 0 <= nc < n and mountain[nr][nc] == 0:\n",
    "                    mountain[nr][nc] = 2\n",
    "                    next_fire.append((nr, nc))\n",
    "        return next_fire\n",
    "\n",
    "    for r in range(n):\n",
    "        for c in range(n):\n",
    "            if mountain[r][c] == 2:\n",
    "                fire.append((r, c))\n",
    "\n",
    "    while fire:\n",
    "        fire = set_fire(fire)\n",
    "        if fire:\n",
    "            t += 1\n",
    "    \n",
    "    answer = t\n",
    "    return answer\n"
   ]
  },
  {
   "cell_type": "code",
   "execution_count": 2,
   "id": "be8930bb",
   "metadata": {},
   "outputs": [
    {
     "data": {
      "text/plain": [
       "1"
      ]
     },
     "execution_count": 2,
     "metadata": {},
     "output_type": "execute_result"
    }
   ],
   "source": [
    "solution([[2,1,0,1],[0,1,1,1],[1,0,1,1],[0,2,0,2]])"
   ]
  },
  {
   "cell_type": "code",
   "execution_count": 3,
   "id": "505fb6c8",
   "metadata": {},
   "outputs": [
    {
     "data": {
      "text/plain": [
       "7"
      ]
     },
     "execution_count": 3,
     "metadata": {},
     "output_type": "execute_result"
    }
   ],
   "source": [
    "solution([[0,1,0,1,1],[0,0,1,0,2],[0,0,0,0,1],[1,0,0,0,0],[0,0,0,0,0]])"
   ]
  },
  {
   "cell_type": "code",
   "execution_count": 4,
   "id": "d78a52d1",
   "metadata": {},
   "outputs": [
    {
     "data": {
      "text/plain": [
       "0"
      ]
     },
     "execution_count": 4,
     "metadata": {},
     "output_type": "execute_result"
    }
   ],
   "source": [
    "solution([[2,1,1,1],[1,1,1,0],[1,1,1,1],[1,1,2,1]])"
   ]
  }
 ],
 "metadata": {
  "kernelspec": {
   "display_name": "Python 3",
   "language": "python",
   "name": "python3"
  },
  "language_info": {
   "codemirror_mode": {
    "name": "ipython",
    "version": 3
   },
   "file_extension": ".py",
   "mimetype": "text/x-python",
   "name": "python",
   "nbconvert_exporter": "python",
   "pygments_lexer": "ipython3",
   "version": "3.13.4"
  }
 },
 "nbformat": 4,
 "nbformat_minor": 5
}

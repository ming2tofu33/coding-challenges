{
 "cells": [
  {
   "cell_type": "markdown",
   "id": "1397a27e",
   "metadata": {},
   "source": [
    "# `28. [대표 유형] 그래프 탐색`"
   ]
  },
  {
   "cell_type": "code",
   "execution_count": 2,
   "id": "d221d00d",
   "metadata": {},
   "outputs": [],
   "source": [
    "def solution(n, edges):\n",
    "    adj_matrix = [[0] * (n + 1) for _ in range(n + 1)]\n",
    "\n",
    "    for x, y in edges:\n",
    "        adj_matrix[x][y] = 1\n",
    "        adj_matrix[y][x] = 1\n",
    "    \n",
    "    stack = [1]\n",
    "    visited = set()\n",
    "    trail = []\n",
    "\n",
    "    while stack:\n",
    "        cur = stack.pop()\n",
    "        if cur not in visited:\n",
    "            trail.append(cur)\n",
    "            visited.add(cur)\n",
    "        \n",
    "        for nxt in range(n + 1):\n",
    "            if adj_matrix[cur][nxt] and nxt not in visited:\n",
    "                stack.append(nxt)\n",
    "    \n",
    "    return len(trail)"
   ]
  },
  {
   "cell_type": "code",
   "execution_count": 3,
   "id": "cb52bc57",
   "metadata": {},
   "outputs": [
    {
     "data": {
      "text/plain": [
       "5"
      ]
     },
     "execution_count": 3,
     "metadata": {},
     "output_type": "execute_result"
    }
   ],
   "source": [
    "solution(6, [[1,2],[1,3],[2,3],[2,4],[3,5]])"
   ]
  },
  {
   "cell_type": "code",
   "execution_count": 4,
   "id": "eeb73700",
   "metadata": {},
   "outputs": [
    {
     "data": {
      "text/plain": [
       "8"
      ]
     },
     "execution_count": 4,
     "metadata": {},
     "output_type": "execute_result"
    }
   ],
   "source": [
    "solution(10, [[1,2],[1,4],[1,6],[2,3],[3,4],[3,7],[4,5],[5,6],[5,7],[5,8],[9,10]])"
   ]
  }
 ],
 "metadata": {
  "kernelspec": {
   "display_name": "Python 3",
   "language": "python",
   "name": "python3"
  },
  "language_info": {
   "codemirror_mode": {
    "name": "ipython",
    "version": 3
   },
   "file_extension": ".py",
   "mimetype": "text/x-python",
   "name": "python",
   "nbconvert_exporter": "python",
   "pygments_lexer": "ipython3",
   "version": "3.13.4"
  }
 },
 "nbformat": 4,
 "nbformat_minor": 5
}

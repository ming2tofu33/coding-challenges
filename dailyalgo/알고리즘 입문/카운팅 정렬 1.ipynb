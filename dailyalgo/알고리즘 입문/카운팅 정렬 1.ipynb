{
 "cells": [
  {
   "cell_type": "markdown",
   "id": "6f0efee7",
   "metadata": {},
   "source": [
    "# `176. 카운팅 정렬 1`"
   ]
  },
  {
   "cell_type": "code",
   "execution_count": 1,
   "id": "fba03a97",
   "metadata": {},
   "outputs": [],
   "source": [
    "def solution(numbers):\n",
    "    cnt = [0] * (max(numbers) + 1)\n",
    "    sorted_numbers = [0] * len(numbers)\n",
    "\n",
    "    for num in numbers:\n",
    "        cnt[num] += 1\n",
    "\n",
    "    for i in range(1, len(cnt)):\n",
    "        cnt[i] = cnt[i] + cnt[i-1]\n",
    "    \n",
    "    for j in range(len(numbers) - 1, -1, -1):\n",
    "        sorted_numbers[cnt[numbers[j]] - 1] = numbers[j]\n",
    "        cnt[numbers[j]] -= 1\n",
    "        \n",
    "    return sorted_numbers"
   ]
  },
  {
   "cell_type": "code",
   "execution_count": 2,
   "id": "419e5366",
   "metadata": {},
   "outputs": [
    {
     "data": {
      "text/plain": [
       "[1, 2, 2, 3, 3, 4, 8]"
      ]
     },
     "execution_count": 2,
     "metadata": {},
     "output_type": "execute_result"
    }
   ],
   "source": [
    "solution([4,2,2,8,3,3,1])"
   ]
  }
 ],
 "metadata": {
  "kernelspec": {
   "display_name": "Python 3",
   "language": "python",
   "name": "python3"
  },
  "language_info": {
   "codemirror_mode": {
    "name": "ipython",
    "version": 3
   },
   "file_extension": ".py",
   "mimetype": "text/x-python",
   "name": "python",
   "nbconvert_exporter": "python",
   "pygments_lexer": "ipython3",
   "version": "3.13.4"
  }
 },
 "nbformat": 4,
 "nbformat_minor": 5
}

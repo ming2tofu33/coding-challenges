{
 "cells": [
  {
   "cell_type": "markdown",
   "id": "efb55ea8",
   "metadata": {},
   "source": [
    "# `75. 달팽이 순회`"
   ]
  },
  {
   "cell_type": "code",
   "execution_count": 4,
   "id": "5c931e60",
   "metadata": {},
   "outputs": [],
   "source": [
    "def solution(n):\n",
    "    mtx = [[0] * n for _ in range(n)]\n",
    "\n",
    "    dxy = [(0, 1), (1, 0), (0, -1), (-1, 0)]  # 오른쪽, 아래, 왼쪽, 위\n",
    "\n",
    "    x = 0\n",
    "    y = 0\n",
    "    direction = 0\n",
    "    number = 1\n",
    "\n",
    "    for _ in range(n * n):\n",
    "        mtx[x][y] = number\n",
    "        number += 1\n",
    "        next_x = x + dxy[direction][0]\n",
    "        next_y = y + dxy[direction][1]\n",
    "\n",
    "        if (\n",
    "            next_x < 0 or next_x >= n or\n",
    "            next_y < 0 or next_y >= n or\n",
    "            mtx[next_x][next_y] != 0\n",
    "        ):\n",
    "            direction = (direction + 1) % 4  # 방향 전환\n",
    "            next_x = x + dxy[direction][0]\n",
    "            next_y = y + dxy[direction][1]\n",
    "\n",
    "        x = next_x\n",
    "        y = next_y\n",
    "\n",
    "    answer = mtx\n",
    "\n",
    "    return answer"
   ]
  },
  {
   "cell_type": "code",
   "execution_count": 8,
   "id": "97f7c9c9",
   "metadata": {},
   "outputs": [
    {
     "name": "stdout",
     "output_type": "stream",
     "text": [
      "[[1, 2, 3, 4, 5],\n",
      " [16, 17, 18, 19, 6],\n",
      " [15, 24, 25, 20, 7],\n",
      " [14, 23, 22, 21, 8],\n",
      " [13, 12, 11, 10, 9]]\n"
     ]
    }
   ],
   "source": [
    "from pprint import pprint\n",
    "pprint(solution(5))"
   ]
  },
  {
   "cell_type": "code",
   "execution_count": 2,
   "id": "360c2a93",
   "metadata": {},
   "outputs": [],
   "source": [
    "def solution(n):\n",
    "    dr = (0, 1, 0, -1)\n",
    "    dc = (1, 0, -1, 0)\n",
    "\n",
    "    snail = [[0] * n for _ in range(n)]\n",
    "    r, c, d = 0, 0, 0\n",
    "\n",
    "    # 1부터 N**2까지 차례로 순회하며 할당합니다.\n",
    "    for num in range(1, n ** 2 + 1):\n",
    "        # 해당 좌표에 해당 숫자를 할당합니다.\n",
    "        snail[r][c] = num\n",
    "\n",
    "        # 기본적으로 기존 방향을 유지하며 다음 좌표를 설정합니다.\n",
    "        nr, nc = r + dr[d], c + dc[d]\n",
    "\n",
    "        # 다음 좌표가 범위를 벗어나는 경우 또는 다음 좌표에 이미 숫자가 할당된 경우 방향을 전환합니다.\n",
    "        if nr < 0 or nr >= n or nc < 0 or nc >= n or snail[nr][nc] != 0:\n",
    "            # 아래와 같이 방향 전환 좌표를 설정하면 3 => 0으로의 방향 전환이 가능합니다.\n",
    "            d = (d + 1) % 4\n",
    "            nr, nc = r + dr[d], c + dc[d]\n",
    "\n",
    "        # 위에서 계산한 다음 좌표를 현재 좌표로 최신화한 후 다음 반복으로 넘어갑니다.\n",
    "        r, c = nr, nc\n",
    "\n",
    "    return snail"
   ]
  },
  {
   "cell_type": "code",
   "execution_count": 3,
   "id": "63447741",
   "metadata": {},
   "outputs": [],
   "source": [
    "def solution(n):\n",
    "    dr = [0, 1, 0, -1]  #우하좌상\n",
    "    dc = [1, 0, -1, 0]\n",
    "    snail = [[0 for _ in range(n)] for _ in range(n)]\n",
    "\n",
    "    d = num = r = 0  # 방향 초기화 d, 달팽이 안에 넣을 숫자 num, 행 좌표 r\n",
    "    c = -1  # 시작 cell은 0이여야하는데, 아래코드로 시작하면 (0, 1)에서 시작. 따라서 (0,0) 옆 왼쪽의 가상의 칸에서 시작한다\n",
    "\n",
    "    for i in range(n * 2, 1, -1):  # 방향바꾸기 횟수 2N-1\n",
    "        for _ in range(i // 2):  # 각 방향에서 움직임 횟수\n",
    "            num += 1\n",
    "            r += dr[d % 4]\n",
    "            c += dc[d % 4]\n",
    "            snail[r][c] = num\n",
    "        d += 1  # 방향 바꾸기\n",
    "\n",
    "    return snail\n"
   ]
  }
 ],
 "metadata": {
  "kernelspec": {
   "display_name": "Python 3",
   "language": "python",
   "name": "python3"
  },
  "language_info": {
   "codemirror_mode": {
    "name": "ipython",
    "version": 3
   },
   "file_extension": ".py",
   "mimetype": "text/x-python",
   "name": "python",
   "nbconvert_exporter": "python",
   "pygments_lexer": "ipython3",
   "version": "3.13.4"
  }
 },
 "nbformat": 4,
 "nbformat_minor": 5
}

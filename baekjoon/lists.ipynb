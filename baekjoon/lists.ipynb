{
 "cells": [
  {
   "cell_type": "code",
   "execution_count": 2,
   "id": "7e71f7a4",
   "metadata": {},
   "outputs": [
    {
     "name": "stdout",
     "output_type": "stream",
     "text": [
      "3\n"
     ]
    }
   ],
   "source": [
    "# 10807 \"개수 세기\"\n",
    "\n",
    "n = int(input())\n",
    "l = list(map(int, input().split()))\n",
    "v = int(input())\n",
    "\n",
    "print(l[:n + 1].count(v))"
   ]
  },
  {
   "cell_type": "code",
   "execution_count": null,
   "id": "42ce1bfb",
   "metadata": {},
   "outputs": [
    {
     "name": "stdout",
     "output_type": "stream",
     "text": [
      "<generator object <genexpr> at 0x000001FB0AF39840>\n"
     ]
    }
   ],
   "source": [
    "# 10871 \"X보다 작은 수\"\n",
    "\n",
    "n, x = map(int, input().split())\n",
    "l = list(map(int, input().split()))\n",
    "result = []\n",
    "\n",
    "for i in l:\n",
    "    if i < x:\n",
    "        result.append(i)\n",
    "\n",
    "print(_ for _ in result)"
   ]
  },
  {
   "cell_type": "code",
   "execution_count": 11,
   "id": "7315771e",
   "metadata": {},
   "outputs": [
    {
     "name": "stdout",
     "output_type": "stream",
     "text": [
      "7 35\n"
     ]
    }
   ],
   "source": [
    "# 10818 \"최소, 최대\"\n",
    "\n",
    "n = int(input())\n",
    "l = list(map(int, input().split()))\n",
    "\n",
    "print(min(l[:n + 1]), max(l[:n + 1]))"
   ]
  },
  {
   "cell_type": "code",
   "execution_count": null,
   "id": "74c80416",
   "metadata": {},
   "outputs": [
    {
     "name": "stdout",
     "output_type": "stream",
     "text": [
      "85\n",
      "8\n"
     ]
    }
   ],
   "source": [
    "# 2562 \"최댓값\"\n",
    "\n",
    "l = []\n",
    "\n",
    "for _ in range(9):\n",
    "    n = int(input())\n",
    "    l.append(n)\n",
    "\n",
    "print(max(l))\n",
    "print(l.index(max(l)) + 1)"
   ]
  },
  {
   "cell_type": "code",
   "execution_count": null,
   "id": "fd700bb9",
   "metadata": {},
   "outputs": [],
   "source": [
    "# 10810 \"공 넣기\"\n"
   ]
  },
  {
   "cell_type": "code",
   "execution_count": null,
   "id": "fd831d48",
   "metadata": {},
   "outputs": [],
   "source": [
    "# 10813 \"공 바꾸기\"\n"
   ]
  },
  {
   "cell_type": "code",
   "execution_count": null,
   "id": "8456381c",
   "metadata": {},
   "outputs": [],
   "source": [
    "# 5597 \"과제 안 내신 분..?\"\n",
    "\n",
    "l = []\n",
    "\n",
    "for n in range(1, 29):\n",
    "    l.append(int(input()))\n",
    "    \n",
    "l.sort()\n",
    "\n",
    "for "
   ]
  },
  {
   "cell_type": "code",
   "execution_count": 18,
   "id": "d8ccaf24",
   "metadata": {},
   "outputs": [
    {
     "name": "stdout",
     "output_type": "stream",
     "text": [
      "6\n"
     ]
    }
   ],
   "source": [
    "# 3052 \"나머지\"\n",
    "\n",
    "r = set()\n",
    "\n",
    "for i in range(10):\n",
    "    n = int(input())\n",
    "    r.add(n % 42)\n",
    "\n",
    "print(len(r))"
   ]
  },
  {
   "cell_type": "code",
   "execution_count": null,
   "id": "e73e7804",
   "metadata": {},
   "outputs": [],
   "source": [
    "# 10811 \"바구니 뒤집기\"\n",
    "\n"
   ]
  },
  {
   "cell_type": "code",
   "execution_count": null,
   "id": "28855c57",
   "metadata": {},
   "outputs": [],
   "source": [
    "# 1546 \"평균\"\n"
   ]
  }
 ],
 "metadata": {
  "kernelspec": {
   "display_name": "Python 3",
   "language": "python",
   "name": "python3"
  },
  "language_info": {
   "codemirror_mode": {
    "name": "ipython",
    "version": 3
   },
   "file_extension": ".py",
   "mimetype": "text/x-python",
   "name": "python",
   "nbconvert_exporter": "python",
   "pygments_lexer": "ipython3",
   "version": "3.13.4"
  }
 },
 "nbformat": 4,
 "nbformat_minor": 5
}

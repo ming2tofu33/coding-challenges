{
 "cells": [
  {
   "cell_type": "code",
   "execution_count": 2,
   "id": "7e71f7a4",
   "metadata": {},
   "outputs": [
    {
     "name": "stdout",
     "output_type": "stream",
     "text": [
      "3\n"
     ]
    }
   ],
   "source": [
    "# 10807 \"개수 세기\"\n",
    "\n",
    "n = int(input())\n",
    "l = list(map(int, input().split()))\n",
    "v = int(input())\n",
    "\n",
    "print(l[:n + 1].count(v))"
   ]
  },
  {
   "cell_type": "code",
   "execution_count": null,
   "id": "42ce1bfb",
   "metadata": {},
   "outputs": [
    {
     "name": "stdout",
     "output_type": "stream",
     "text": [
      "1 4 2 3\n"
     ]
    }
   ],
   "source": [
    "# 10871 \"X보다 작은 수\"\n",
    "\n",
    "n, x = map(int, input().split())\n",
    "l = list(map(int, input().split()))\n",
    "\n",
    "print(*[i for i in l if i < x ])"
   ]
  },
  {
   "cell_type": "code",
   "execution_count": 11,
   "id": "7315771e",
   "metadata": {},
   "outputs": [
    {
     "name": "stdout",
     "output_type": "stream",
     "text": [
      "7 35\n"
     ]
    }
   ],
   "source": [
    "# 10818 \"최소, 최대\"\n",
    "\n",
    "n = int(input())\n",
    "l = list(map(int, input().split()))\n",
    "\n",
    "print(min(l[:n + 1]), max(l[:n + 1]))"
   ]
  },
  {
   "cell_type": "code",
   "execution_count": null,
   "id": "74c80416",
   "metadata": {},
   "outputs": [
    {
     "name": "stdout",
     "output_type": "stream",
     "text": [
      "85\n",
      "8\n"
     ]
    }
   ],
   "source": [
    "# 2562 \"최댓값\"\n",
    "\n",
    "l = []\n",
    "\n",
    "for _ in range(9):\n",
    "    n = int(input())\n",
    "    l.append(n)\n",
    "\n",
    "print(max(l))\n",
    "print(l.index(max(l)) + 1)"
   ]
  },
  {
   "cell_type": "code",
   "execution_count": 15,
   "id": "fd700bb9",
   "metadata": {},
   "outputs": [
    {
     "name": "stdout",
     "output_type": "stream",
     "text": [
      "1 2 1 1 0\n"
     ]
    }
   ],
   "source": [
    "# 10810 \"공 넣기\"\n",
    "\n",
    "n, m = map(int, input().split())\n",
    "basket = [0 for _ in range(n)]\n",
    "\n",
    "for _ in range(m):\n",
    "    i, j, k = map(int, input().split())\n",
    "    basket[i - 1: j] = [k] * (j + 1 - i)\n",
    "\n",
    "print(*basket)"
   ]
  },
  {
   "cell_type": "code",
   "execution_count": 3,
   "id": "fd831d48",
   "metadata": {},
   "outputs": [
    {
     "name": "stdout",
     "output_type": "stream",
     "text": [
      "3 1 4 2 5\n"
     ]
    }
   ],
   "source": [
    "# 10813 \"공 바꾸기\"\n",
    "\n",
    "n, m = map(int, input().split())\n",
    "basket = list(range(1, n + 1))\n",
    "\n",
    "for _ in range(m):\n",
    "    i, j = map(int, input().split())\n",
    "    tmp = basket[i - 1]\n",
    "    basket[i - 1] = basket[j - 1]\n",
    "    basket[j - 1] = tmp\n",
    "\n",
    "print(*basket)"
   ]
  },
  {
   "cell_type": "code",
   "execution_count": null,
   "id": "8456381c",
   "metadata": {},
   "outputs": [],
   "source": [
    "# 5597 \"과제 안 내신 분..?\"\n",
    "\n",
    "import sys\n",
    "\n",
    "n = set(range(1, 31))\n",
    "s = set()\n",
    "\n",
    "for _ in range(28):\n",
    "    s.add(int(sys.stdin.readline()))\n",
    "\n",
    "a = n ^ s\n",
    "print(min(a))\n",
    "print(max(a))"
   ]
  },
  {
   "cell_type": "code",
   "execution_count": null,
   "id": "d8ccaf24",
   "metadata": {},
   "outputs": [
    {
     "name": "stdout",
     "output_type": "stream",
     "text": [
      "6\n"
     ]
    }
   ],
   "source": [
    "# 3052 \"나머지\"b\n",
    "\n",
    "r = set()\n",
    "\n",
    "for i in range(10):\n",
    "    n = int(input())\n",
    "    r.add(n % 42)\n",
    "\n",
    "print(len(r))"
   ]
  },
  {
   "cell_type": "code",
   "execution_count": null,
   "id": "e73e7804",
   "metadata": {},
   "outputs": [
    {
     "name": "stdout",
     "output_type": "stream",
     "text": [
      "[2, 1, 3, 4, 5]\n",
      "[2, 1, 4, 5]\n",
      "[5, 4, 1, 2]\n",
      "[5, 1, 2]\n"
     ]
    }
   ],
   "source": [
    "# 10811 \"바구니 뒤집기\"\n",
    "\n",
    "n, m = map(int, input().split())\n",
    "basket = list(range(1, n + 1))\n",
    "\n",
    "for _ in range(m):\n",
    "    i, j = map(int, input().split())\n",
    "    basket[i - 1: None if j == n else j] = basket[j - 1: None if i == 1 else i - 1: -1]\n",
    "    print(basket)"
   ]
  },
  {
   "cell_type": "code",
   "execution_count": 34,
   "id": "20be90d8",
   "metadata": {},
   "outputs": [
    {
     "data": {
      "text/plain": [
       "[2, 1, 5, 4, 3]"
      ]
     },
     "execution_count": 34,
     "metadata": {},
     "output_type": "execute_result"
    }
   ],
   "source": [
    "b = [2, 1, 3, 4, 5]\n",
    "b[2:5] = b[5:1:-1]\n",
    "b"
   ]
  },
  {
   "cell_type": "code",
   "execution_count": 7,
   "id": "28855c57",
   "metadata": {},
   "outputs": [
    {
     "name": "stdout",
     "output_type": "stream",
     "text": [
      "100.0\n"
     ]
    }
   ],
   "source": [
    "# 1546 \"평균\"\n",
    "\n",
    "n = int(input())\n",
    "s = list(map(int, input().split()))\n",
    "m = max(s)\n",
    "total = 0\n",
    "\n",
    "for i in s:\n",
    "    total += i / m * 100\n",
    "    \n",
    "print(total / n)"
   ]
  }
 ],
 "metadata": {
  "kernelspec": {
   "display_name": "Python 3",
   "language": "python",
   "name": "python3"
  },
  "language_info": {
   "codemirror_mode": {
    "name": "ipython",
    "version": 3
   },
   "file_extension": ".py",
   "mimetype": "text/x-python",
   "name": "python",
   "nbconvert_exporter": "python",
   "pygments_lexer": "ipython3",
   "version": "3.13.4"
  }
 },
 "nbformat": 4,
 "nbformat_minor": 5
}

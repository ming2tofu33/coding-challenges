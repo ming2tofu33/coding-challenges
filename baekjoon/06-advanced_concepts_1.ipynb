{
 "cells": [
  {
   "cell_type": "code",
   "execution_count": 2,
   "id": "e4122c4b",
   "metadata": {},
   "outputs": [
    {
     "name": "stdout",
     "output_type": "stream",
     "text": [
      "         ,r'\"7\n",
      "r`-_   ,'  ,/\n",
      " \\. \". L_r'\n",
      "   `~\\/\n",
      "      |\n",
      "      |\n"
     ]
    }
   ],
   "source": [
    "# 25084 \"새싹\"\n",
    "\n",
    "print(r\"\"\"         ,r'\"7\n",
    "r`-_   ,'  ,/\n",
    " \\. \". L_r'\n",
    "   `~\\/\n",
    "      |\n",
    "      |\"\"\")"
   ]
  },
  {
   "cell_type": "code",
   "execution_count": null,
   "id": "19e45ab3",
   "metadata": {},
   "outputs": [
    {
     "name": "stdout",
     "output_type": "stream",
     "text": [
      "-1 0 0 1 0 7\n"
     ]
    }
   ],
   "source": [
    "# 3003 \"킹, 퀸, 룩, 비숍, 나이트, 폰\"\n",
    "\n",
    "# chess = [1, 1, 2, 2, 2, 8]\n",
    "# pieces = list(map (int, input().split()))\n",
    "# need = []\n",
    "\n",
    "# for i in range(len(chess)):\n",
    "#     need.append(chess[i] - pieces[i])\n",
    "    \n",
    "# print(*need)\n",
    "\n",
    "k, q, r, b, n, p = map(int,input().split())\n",
    "print(1-k, 1-q, 2-r, 2-b, 2-n, 8-p)"
   ]
  },
  {
   "cell_type": "code",
   "execution_count": 24,
   "id": "bf26044f",
   "metadata": {},
   "outputs": [
    {
     "name": "stdout",
     "output_type": "stream",
     "text": [
      "    *\n",
      "   ***\n",
      "  *****\n",
      " *******\n",
      "*********\n",
      " *******\n",
      "  *****\n",
      "   ***\n",
      "    *\n"
     ]
    }
   ],
   "source": [
    "# 2444 \"별 찍기 - 7\"\n",
    "\n",
    "n = int(input())\n",
    "\n",
    "for i in range(1, n * 2):\n",
    "    if i <= n:\n",
    "        h = '*' * (i-1) if i > 1 else ''\n",
    "        print(' ' * (n - i) + '*' * i + h)\n",
    "    else:\n",
    "        h = '*' * (n * 2 - i - 1)\n",
    "        print(' ' * (i - n) + '*' * (n * 2 - i) + h)"
   ]
  },
  {
   "cell_type": "code",
   "execution_count": 29,
   "id": "5349c5d0",
   "metadata": {},
   "outputs": [
    {
     "name": "stdout",
     "output_type": "stream",
     "text": [
      "1\n"
     ]
    }
   ],
   "source": [
    "# 10988 \"팰린드롬인지 확인하기\"\n",
    "\n",
    "s = input()\n",
    "\n",
    "print(1 if s == s[::-1] else 0)"
   ]
  },
  {
   "cell_type": "code",
   "execution_count": 40,
   "id": "5c224ef1",
   "metadata": {},
   "outputs": [
    {
     "name": "stdout",
     "output_type": "stream",
     "text": [
      "Z\n"
     ]
    }
   ],
   "source": [
    "# 1157 \"단어 공부\"\n",
    "\n",
    "m = 0\n",
    "l = set()\n",
    "s = input().upper()\n",
    "\n",
    "for a in set(s):\n",
    "    c = s.count(a)\n",
    "    if c > m:\n",
    "        m = c\n",
    "        l = {a}\n",
    "    elif c == m:\n",
    "        l.add(a)\n",
    "\n",
    "if len(l) > 1:\n",
    "    print('?')\n",
    "else:\n",
    "    print(*l)"
   ]
  },
  {
   "cell_type": "code",
   "execution_count": null,
   "id": "fd4339ab",
   "metadata": {},
   "outputs": [],
   "source": [
    "# 2941 \"크로아티아 알파벳\"\n",
    "\n",
    "# ljes=njak 6\n",
    "# dz=ak 3\n",
    "\n",
    "c = ['c=', 'c-', 'dz=', 'd-', 'lj', 'nj', 's=', 'z=']\n",
    "\n"
   ]
  },
  {
   "cell_type": "code",
   "execution_count": null,
   "id": "d7da178b",
   "metadata": {},
   "outputs": [],
   "source": [
    "# "
   ]
  },
  {
   "cell_type": "code",
   "execution_count": null,
   "id": "52e33aa8",
   "metadata": {},
   "outputs": [],
   "source": [
    "# 25206 \"너의 평점은\"\n",
    "\n",
    "import sys\n",
    "\n",
    "lines = sys.stdin.read().splitlines()\n",
    "\n",
    "subject_grades = {\"A+\": 4.5, \"A0\": 4.0, \"B+\": 3.5, \"B0\": 3.0, \"C+\": 2.5, \"C0\": 2.0, \"D+\": 1.5, \"D0\": 1.0, \"F\": 0.0, \"P\": None}\n",
    "div = 0\n",
    "total = 0\n",
    "\n",
    "for line in lines:\n",
    "    _, grade, subject_avg = line.split()\n",
    "    if subject_avg == \"P\":\n",
    "        pass\n",
    "    else:\n",
    "        total += float(grade) * subject_grades[subject_avg]\n",
    "        div += float(grade) \n",
    "\n",
    "print(total / div)"
   ]
  }
 ],
 "metadata": {
  "kernelspec": {
   "display_name": "Python 3",
   "language": "python",
   "name": "python3"
  },
  "language_info": {
   "codemirror_mode": {
    "name": "ipython",
    "version": 3
   },
   "file_extension": ".py",
   "mimetype": "text/x-python",
   "name": "python",
   "nbconvert_exporter": "python",
   "pygments_lexer": "ipython3",
   "version": "3.13.4"
  }
 },
 "nbformat": 4,
 "nbformat_minor": 5
}

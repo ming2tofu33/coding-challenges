{
 "cells": [
  {
   "cell_type": "code",
   "execution_count": null,
   "id": "240e85ed",
   "metadata": {},
   "outputs": [],
   "source": [
    "# 2738 \"행렬 덧셈\"\n",
    "\n",
    "import sys\n",
    "\n",
    "n, m = map(int, sys.stdin.readline().split())\n",
    "arr1 = []\n",
    "arr2 = []\n",
    "\n",
    "for _ in range(n):\n",
    "    arr1.append(list(map(int, sys.stdin.readline().split())))\n",
    "\n",
    "for _ in range(n):\n",
    "    arr2.append(list(map(int, sys.stdin.readline().split())))\n",
    "    \n",
    "for row in range(n):\n",
    "    tmp = []\n",
    "    for col in range(m):\n",
    "        tmp.append(arr1[row][col] + arr2[row][col])\n",
    "    print(*tmp)\n",
    "\n",
    "# 넘파이 써서 에러\n",
    "# import sys\n",
    "# import numpy as np\n",
    "\n",
    "# n, m = map(int, sys.stdin.readline().split())\n",
    "# arr1 = []\n",
    "# arr2 = []\n",
    "\n",
    "# for _ in range(n):\n",
    "#     arr1.append(list(map(int, sys.stdin.readline().split())))\n",
    "\n",
    "# for _ in range(n):\n",
    "#     arr2.append(list(map(int, sys.stdin.readline().split())))\n",
    "    \n",
    "# arr1 = np.array(arr1)\n",
    "# arr2 = np.array(arr2)\n",
    "\n",
    "# result = arr1 + arr2 \n",
    "\n",
    "# for row in result:\n",
    "#     for col in row:\n",
    "#         print(col, end=' ')\n",
    "#     print()"
   ]
  },
  {
   "cell_type": "code",
   "execution_count": null,
   "id": "1a905870",
   "metadata": {},
   "outputs": [
    {
     "data": {
      "text/plain": [
       "3"
      ]
     },
     "execution_count": 7,
     "metadata": {},
     "output_type": "execute_result"
    }
   ],
   "source": [
    "# 2566 \"최댓값\"\n",
    "\n",
    "import sys\n",
    "\n",
    "m = 0\n",
    "\n",
    "for row in range(9):\n",
    "    l = list(map(int, sys.stdin.readline().split()))\n",
    "    tmp = max(l)\n",
    "    col = l.index(tmp)\n",
    "    if m <= tmp:\n",
    "        m = tmp\n",
    "        r, c = row + 1, col + 1\n",
    "        \n",
    "print(m)\n",
    "print(r, c)"
   ]
  },
  {
   "cell_type": "code",
   "execution_count": null,
   "id": "a74e5624",
   "metadata": {},
   "outputs": [],
   "source": [
    "# 10798 \"세로읽기\""
   ]
  },
  {
   "cell_type": "code",
   "execution_count": null,
   "id": "c14e4f55",
   "metadata": {},
   "outputs": [],
   "source": [
    "# 2563 \"색종이\""
   ]
  }
 ],
 "metadata": {
  "kernelspec": {
   "display_name": "Python 3",
   "language": "python",
   "name": "python3"
  },
  "language_info": {
   "codemirror_mode": {
    "name": "ipython",
    "version": 3
   },
   "file_extension": ".py",
   "mimetype": "text/x-python",
   "name": "python",
   "nbconvert_exporter": "python",
   "pygments_lexer": "ipython3",
   "version": "3.13.4"
  }
 },
 "nbformat": 4,
 "nbformat_minor": 5
}

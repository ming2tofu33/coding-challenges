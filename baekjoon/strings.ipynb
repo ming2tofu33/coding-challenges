{
 "cells": [
  {
   "cell_type": "code",
   "execution_count": 2,
   "id": "e5270a9c",
   "metadata": {},
   "outputs": [
    {
     "name": "stdout",
     "output_type": "stream",
     "text": [
      "k\n"
     ]
    }
   ],
   "source": [
    "# 27866 \"문자와 문자열\"\n",
    "\n",
    "s = input()\n",
    "idx = int(input()) - 1\n",
    "\n",
    "print(s[idx])"
   ]
  },
  {
   "cell_type": "code",
   "execution_count": 3,
   "id": "18dfeb19",
   "metadata": {},
   "outputs": [
    {
     "name": "stdout",
     "output_type": "stream",
     "text": [
      "8\n"
     ]
    }
   ],
   "source": [
    "# 2743 \"단어 길이 재기\"\n",
    "\n",
    "print(len(input()))"
   ]
  },
  {
   "cell_type": "code",
   "execution_count": 5,
   "id": "f7bd7c26",
   "metadata": {},
   "outputs": [
    {
     "name": "stdout",
     "output_type": "stream",
     "text": [
      "AE\n",
      "OO\n",
      "AB\n"
     ]
    }
   ],
   "source": [
    "# 9086 \"문자열\"\n",
    "\n",
    "for _ in range(int(input())):\n",
    "    s = input()\n",
    "    print(s[0] + s[-1])"
   ]
  },
  {
   "cell_type": "code",
   "execution_count": 13,
   "id": "ab145d7e",
   "metadata": {},
   "outputs": [
    {
     "name": "stdout",
     "output_type": "stream",
     "text": [
      "122\n"
     ]
    }
   ],
   "source": [
    "# 11654 \"아스키 코드\"\n",
    "\n",
    "print(ord(input()))"
   ]
  },
  {
   "cell_type": "code",
   "execution_count": null,
   "id": "6a020e2f",
   "metadata": {},
   "outputs": [
    {
     "name": "stdout",
     "output_type": "stream",
     "text": [
      "46\n"
     ]
    }
   ],
   "source": [
    "# 11720 \"숫자의 합\"\n",
    "\n",
    "n = int(input())\n",
    "total = sum(list(map(int, input())))\n",
    "\n",
    "print(total)"
   ]
  },
  {
   "cell_type": "code",
   "execution_count": 43,
   "id": "637159f7",
   "metadata": {},
   "outputs": [
    {
     "name": "stdout",
     "output_type": "stream",
     "text": [
      "1 0 -1 -1 2 -1 -1 -1 -1 4 3 -1 -1 7 5 -1 -1 -1 -1 -1 -1 -1 -1 -1 -1 -1\n"
     ]
    }
   ],
   "source": [
    "# 10809 \"알파벳 찾기\"\n",
    "\n",
    "s = input()\n",
    "alphabet = [chr(a) for a in range(97, 123)]\n",
    "idx = []\n",
    "\n",
    "for i in alphabet:\n",
    "    idx.append(s.find(i))\n",
    "\n",
    "print(*idx)\n",
    "# print(' '.join(map(str, idx)))"
   ]
  },
  {
   "cell_type": "code",
   "execution_count": 1,
   "id": "9c425f95",
   "metadata": {},
   "outputs": [
    {
     "name": "stdout",
     "output_type": "stream",
     "text": [
      "AAABBBCCC\n",
      "/////HHHHHTTTTTPPPPP\n"
     ]
    }
   ],
   "source": [
    "# 2675 \"문자열 반복\"\n",
    "\n",
    "for t in range(int(input())):\n",
    "    r, s = input().split()\n",
    "    result = ''\n",
    "    for i in s:\n",
    "        result += i * int(r)\n",
    "    print(result)"
   ]
  },
  {
   "cell_type": "code",
   "execution_count": 3,
   "id": "4142efdc",
   "metadata": {},
   "outputs": [
    {
     "name": "stdout",
     "output_type": "stream",
     "text": [
      "6\n"
     ]
    }
   ],
   "source": [
    "# 1152 \"단어의 개수\"\n",
    "\n",
    "print(len(input().split()))"
   ]
  },
  {
   "cell_type": "code",
   "execution_count": null,
   "id": "7efe56b7",
   "metadata": {},
   "outputs": [
    {
     "name": "stdout",
     "output_type": "stream",
     "text": [
      "437\n"
     ]
    }
   ],
   "source": [
    "# 2908 \"상수\"\n",
    "\n",
    "a, b = input().split()\n",
    "a, b = int(a[::-1]), int(b[::-1])\n",
    "print(a if a > b else b)"
   ]
  },
  {
   "cell_type": "code",
   "execution_count": 17,
   "id": "9f3cd0d3",
   "metadata": {},
   "outputs": [
    {
     "name": "stdout",
     "output_type": "stream",
     "text": [
      "36\n"
     ]
    }
   ],
   "source": [
    "# 5622 \"다이얼\"\n",
    "\n",
    "d = {'ABC': 2, 'DEF': 3, 'GHI': 4, 'JKL': 5, 'MNO': 6, 'PQRS': 7, 'TUV': 8, 'WXYZ': 9}\n",
    "t = 0\n",
    "\n",
    "for s in input():\n",
    "    for k in d:\n",
    "        if s in k:\n",
    "            t += d[k] + 1\n",
    "\n",
    "print(t)"
   ]
  },
  {
   "cell_type": "code",
   "execution_count": null,
   "id": "d0e397d7",
   "metadata": {},
   "outputs": [],
   "source": [
    "# 11718 \"그대로 출력하기\"\n",
    "\n",
    "import sys\n",
    "\n",
    "print(sys.stdin.readline().rstrip())"
   ]
  }
 ],
 "metadata": {
  "kernelspec": {
   "display_name": "Python 3",
   "language": "python",
   "name": "python3"
  },
  "language_info": {
   "codemirror_mode": {
    "name": "ipython",
    "version": 3
   },
   "file_extension": ".py",
   "mimetype": "text/x-python",
   "name": "python",
   "nbconvert_exporter": "python",
   "pygments_lexer": "ipython3",
   "version": "3.13.4"
  }
 },
 "nbformat": 4,
 "nbformat_minor": 5
}

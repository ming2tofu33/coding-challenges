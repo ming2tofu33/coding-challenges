{
 "cells": [
  {
   "cell_type": "code",
   "execution_count": 1,
   "id": "fea84f1c",
   "metadata": {},
   "outputs": [
    {
     "name": "stdout",
     "output_type": "stream",
     "text": [
      "2 * 1 = 2\n",
      "2 * 2 = 4\n",
      "2 * 3 = 6\n",
      "2 * 4 = 8\n",
      "2 * 5 = 10\n",
      "2 * 6 = 12\n",
      "2 * 7 = 14\n",
      "2 * 8 = 16\n",
      "2 * 9 = 18\n"
     ]
    }
   ],
   "source": [
    "# 2739 \"구구단\"\n",
    "\n",
    "n = int(input())\n",
    "\n",
    "for i in range(1, 10):\n",
    "    print(f'{n} * {i} = {n*i}')"
   ]
  },
  {
   "cell_type": "code",
   "execution_count": 5,
   "id": "c48898e4",
   "metadata": {},
   "outputs": [
    {
     "name": "stdout",
     "output_type": "stream",
     "text": [
      "2\n",
      "5\n",
      "7\n",
      "17\n",
      "7\n"
     ]
    }
   ],
   "source": [
    "# 10950 \"A+B - 3\"\n",
    "\n",
    "i = int(input())\n",
    "\n",
    "while i > 0:\n",
    "    a, b = map(int, input().split())\n",
    "    print(a + b)\n",
    "    i -= 1"
   ]
  },
  {
   "cell_type": "code",
   "execution_count": 10,
   "id": "2e19ad2b",
   "metadata": {},
   "outputs": [
    {
     "name": "stdout",
     "output_type": "stream",
     "text": [
      "10\n"
     ]
    }
   ],
   "source": [
    "# 8393 \"합\"\n",
    "\n",
    "n = int(input())\n",
    "\n",
    "print(sum(list(range(1, n+1))))"
   ]
  },
  {
   "cell_type": "code",
   "execution_count": 13,
   "id": "a466e00d",
   "metadata": {},
   "outputs": [
    {
     "name": "stdout",
     "output_type": "stream",
     "text": [
      "No\n"
     ]
    }
   ],
   "source": [
    "# 25304 \"영수증\"\n",
    "\n",
    "x = int(input())\n",
    "n = int(input())\n",
    "\n",
    "total = 0\n",
    "\n",
    "while n > 0:\n",
    "    price, quantity = map(int, input().split())\n",
    "    total += price * quantity\n",
    "    n -= 1\n",
    "    \n",
    "print('Yes' if total == x else 'No')"
   ]
  },
  {
   "cell_type": "code",
   "execution_count": 28,
   "id": "ef8432c9",
   "metadata": {},
   "outputs": [
    {
     "name": "stdout",
     "output_type": "stream",
     "text": [
      "long long long long long int\n"
     ]
    }
   ],
   "source": [
    "# 25314 \"코딩은 체육과목 입니다\"\n",
    "\n",
    "# n = int(input())\n",
    "# s = ''\n",
    "\n",
    "# for _ in range(n // 4):\n",
    "#     s += 'long '\n",
    "# s += 'int'\n",
    "\n",
    "# print(s)\n",
    "\n",
    "print('long ' * (int(input()) // 4) + 'int')"
   ]
  },
  {
   "cell_type": "code",
   "execution_count": null,
   "id": "f21caded",
   "metadata": {},
   "outputs": [],
   "source": [
    "# 15552\t\"빠른 A+B\"\n",
    "\n"
   ]
  },
  {
   "cell_type": "code",
   "execution_count": null,
   "id": "d1ee1bef",
   "metadata": {},
   "outputs": [
    {
     "name": "stdout",
     "output_type": "stream",
     "text": [
      "Case #1: 2\n",
      "Case #2: 5\n",
      "Case #3: 7\n",
      "Case #4: 17\n",
      "Case #5: 7\n"
     ]
    }
   ],
   "source": [
    "# 11021 \"A+B - 7\"\n",
    "\n",
    "t = int(input())\n",
    "c = 1\n",
    "\n",
    "while c <= t:\n",
    "    a, b = map(int, input().split())\n",
    "    print(f'Case #{c}: {a + b}')\n",
    "    c += 1"
   ]
  },
  {
   "cell_type": "code",
   "execution_count": 30,
   "id": "023822d5",
   "metadata": {},
   "outputs": [
    {
     "name": "stdout",
     "output_type": "stream",
     "text": [
      "Case #1: 1 + 1 = 2\n",
      "Case #2: 2 + 3 = 5\n",
      "Case #3: 3 + 4 = 7\n",
      "Case #4: 9 + 8 = 17\n",
      "Case #5: 5 + 2 = 7\n"
     ]
    }
   ],
   "source": [
    "# 11022 \"A+B - 8\"\n",
    "\n",
    "t = int(input())\n",
    "c = 1\n",
    "\n",
    "while c <= t:\n",
    "    a, b = map(int, input().split())\n",
    "    print(f'Case #{c}: {a} + {b} = {a + b}')\n",
    "    c += 1"
   ]
  },
  {
   "cell_type": "code",
   "execution_count": 33,
   "id": "78d6fec6",
   "metadata": {},
   "outputs": [
    {
     "name": "stdout",
     "output_type": "stream",
     "text": [
      "*\n",
      "**\n",
      "***\n",
      "****\n",
      "*****\n"
     ]
    }
   ],
   "source": [
    "# 2438 \"별 찍기 - 1\"\n",
    "\n",
    "n = int(input())\n",
    "s = 1\n",
    "\n",
    "while s <= n:\n",
    "    print(s * '*')\n",
    "    s += 1"
   ]
  },
  {
   "cell_type": "code",
   "execution_count": 39,
   "id": "52b8abfa",
   "metadata": {},
   "outputs": [
    {
     "name": "stdout",
     "output_type": "stream",
     "text": [
      "    *\n",
      "   **\n",
      "  ***\n",
      " ****\n",
      "*****\n"
     ]
    }
   ],
   "source": [
    "# 2439 \"별 찍기 - 2\"\n",
    "\n",
    "n = int(input())\n",
    "s = 1\n",
    "\n",
    "while s <= n:\n",
    "    print((n - s) * ' ' + s * '*')\n",
    "    s += 1"
   ]
  },
  {
   "cell_type": "code",
   "execution_count": null,
   "id": "8a2e47c5",
   "metadata": {},
   "outputs": [],
   "source": [
    "# 10952 \"A+B - 5\"\n",
    "\n"
   ]
  }
 ],
 "metadata": {
  "kernelspec": {
   "display_name": "Python 3",
   "language": "python",
   "name": "python3"
  },
  "language_info": {
   "codemirror_mode": {
    "name": "ipython",
    "version": 3
   },
   "file_extension": ".py",
   "mimetype": "text/x-python",
   "name": "python",
   "nbconvert_exporter": "python",
   "pygments_lexer": "ipython3",
   "version": "3.13.4"
  }
 },
 "nbformat": 4,
 "nbformat_minor": 5
}

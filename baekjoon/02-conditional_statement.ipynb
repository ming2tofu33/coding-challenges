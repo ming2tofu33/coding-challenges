{
 "cells": [
  {
   "cell_type": "code",
   "execution_count": 3,
   "id": "7b2bf08a",
   "metadata": {},
   "outputs": [
    {
     "name": "stdout",
     "output_type": "stream",
     "text": [
      "==\n"
     ]
    }
   ],
   "source": [
    "# 1330 \"두 수 비교하기\"\n",
    "\n",
    "A, B = map(int, input().split())\n",
    "\n",
    "if A < B:\n",
    "    print('<')\n",
    "elif A > B:\n",
    "    print('>')\n",
    "elif A == B:\n",
    "    print('==')"
   ]
  },
  {
   "cell_type": "code",
   "execution_count": 8,
   "id": "872daf3b",
   "metadata": {},
   "outputs": [
    {
     "name": "stdout",
     "output_type": "stream",
     "text": [
      "A\n"
     ]
    }
   ],
   "source": [
    "# 9498 \"시험 성적\"\n",
    "\n",
    "score = int(input())\n",
    "\n",
    "if score >= 90:\n",
    "    print('A')\n",
    "elif score >= 80:\n",
    "    print('B')\n",
    "elif score >= 70:\n",
    "    print('C')\n",
    "elif score >= 60:\n",
    "    print('D')\n",
    "else:\n",
    "    print('F')"
   ]
  },
  {
   "cell_type": "code",
   "execution_count": 11,
   "id": "c36941cd",
   "metadata": {},
   "outputs": [
    {
     "name": "stdout",
     "output_type": "stream",
     "text": [
      "1\n"
     ]
    }
   ],
   "source": [
    "# 2753 \"윤년\"\n",
    "\n",
    "year = int(input())\n",
    "is_leap_year = 0\n",
    "\n",
    "if year % 4 == 0 and (year % 100 != 0 or year % 400 == 0):\n",
    "    is_leap_year = 1\n",
    "\n",
    "print(is_leap_year)"
   ]
  },
  {
   "cell_type": "code",
   "execution_count": 17,
   "id": "c426393e",
   "metadata": {},
   "outputs": [
    {
     "name": "stdout",
     "output_type": "stream",
     "text": [
      "4\n"
     ]
    }
   ],
   "source": [
    "# 14681 \"사분면 고르기\"\n",
    "\n",
    "x = int(input())\n",
    "y = int(input())\n",
    "\n",
    "if x > 0  and y > 0:\n",
    "    q = 1\n",
    "elif x < 0 and y > 0:\n",
    "    q = 2\n",
    "elif x < 0 and y < 0:\n",
    "    q = 3\n",
    "elif x > 0 and y < 0:\n",
    "    q = 4\n",
    "    \n",
    "print(q)"
   ]
  },
  {
   "cell_type": "code",
   "execution_count": 77,
   "id": "d4f31cee",
   "metadata": {},
   "outputs": [
    {
     "name": "stdout",
     "output_type": "stream",
     "text": [
      "22 55\n"
     ]
    }
   ],
   "source": [
    "# 2884 \"알람 시계\"\n",
    "\n",
    "h, m = map(int, input().split())\n",
    "\n",
    "set_h = list(range(24))\n",
    "set_m = list(range(60))\n",
    "\n",
    "if m < 45:\n",
    "    h = set_h[set_h.index(h) - 1]\n",
    "m = set_m[set_m.index(m) - 45]\n",
    "\n",
    "print(h, m)"
   ]
  },
  {
   "cell_type": "code",
   "execution_count": 7,
   "id": "7e3def07",
   "metadata": {},
   "outputs": [
    {
     "name": "stdout",
     "output_type": "stream",
     "text": [
      "0 13\n"
     ]
    }
   ],
   "source": [
    "# 2525 \"오븐 시계\"\n",
    "\n",
    "h, m = map(int, input().split())\n",
    "t = int(input())\n",
    "\n",
    "h = (h + (m + t) // 60) % 24\n",
    "m = (m + t) % 60\n",
    "\n",
    "print(h, m)"
   ]
  },
  {
   "cell_type": "code",
   "execution_count": null,
   "id": "40ee02df",
   "metadata": {},
   "outputs": [
    {
     "name": "stdout",
     "output_type": "stream",
     "text": [
      "600\n"
     ]
    }
   ],
   "source": [
    "# 2480 \"주사위 세개\"\n",
    "\n",
    "d1, d2, d3 = map(int, input().split())\n",
    "\n",
    "result = set([d1, d2, d3])\n",
    "\n",
    "if len(result) == 1:\n",
    "    prize = 10000 + d1 * 1000\n",
    "elif len(result) == 2:\n",
    "    if d1 == d2 or  d1 == d3:\n",
    "        prize = 1000 + d1 * 100\n",
    "    else:\n",
    "        prize = 1000 + d2 * 100\n",
    "else:\n",
    "    prize = max(result) * 100\n",
    "    \n",
    "print(prize)"
   ]
  }
 ],
 "metadata": {
  "kernelspec": {
   "display_name": "Python 3",
   "language": "python",
   "name": "python3"
  },
  "language_info": {
   "codemirror_mode": {
    "name": "ipython",
    "version": 3
   },
   "file_extension": ".py",
   "mimetype": "text/x-python",
   "name": "python",
   "nbconvert_exporter": "python",
   "pygments_lexer": "ipython3",
   "version": "3.13.4"
  }
 },
 "nbformat": 4,
 "nbformat_minor": 5
}

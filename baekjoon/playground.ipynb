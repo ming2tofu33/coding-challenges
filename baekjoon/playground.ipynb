{
 "cells": [
  {
   "cell_type": "code",
   "execution_count": 3,
   "id": "1fa47c80",
   "metadata": {},
   "outputs": [
    {
     "name": "stdout",
     "output_type": "stream",
     "text": [
      "1\n"
     ]
    }
   ],
   "source": [
    "# 2475 \"검증수\"\n",
    "\n",
    "l = list(map(int, input().split()))\n",
    "\n",
    "print(sum([i ** 2 for i in l]) % 10)"
   ]
  },
  {
   "cell_type": "code",
   "execution_count": null,
   "id": "aa19b2bd",
   "metadata": {},
   "outputs": [],
   "source": [
    "# 8958 \"OX퀴즈\"\n",
    "\n",
    "import sys\n",
    "\n",
    "t = int(sys.stdin.readline())\n",
    "\n",
    "for _ in range(t):\n",
    "    l = sys.stdin.readline().rstrip()\n",
    "    total = 0\n",
    "    score = 0\n",
    "    for i in l:\n",
    "        if i == 'O':\n",
    "            score += 1\n",
    "            total += score\n",
    "        else:\n",
    "            score = 0\n",
    "            total += score\n",
    "\n",
    "    print(total)"
   ]
  },
  {
   "cell_type": "code",
   "execution_count": 7,
   "id": "e3e4ca1b",
   "metadata": {},
   "outputs": [
    {
     "name": "stdout",
     "output_type": "stream",
     "text": [
      "1\n",
      "2\n",
      "3\n",
      "4\n",
      "5\n"
     ]
    }
   ],
   "source": [
    "# 2741 \"N 찍기\"\n",
    "\n",
    "n = int(input())\n",
    "\n",
    "for i in range(n):\n",
    "    print(i + 1)"
   ]
  },
  {
   "cell_type": "code",
   "execution_count": 9,
   "id": "57182d3b",
   "metadata": {},
   "outputs": [
    {
     "name": "stdout",
     "output_type": "stream",
     "text": [
      "       _.-;;-._\n",
      "'-..-'|   ||   |\n",
      "'-..-'|_.-;;-._|\n",
      "'-..-'|   ||   |\n",
      "'-..-'|_.-''-._|\n"
     ]
    }
   ],
   "source": [
    "# 5338 \"마이크로소프트 로고\"\n",
    "print(r\"\"\"       _.-;;-._\n",
    "'-..-'|   ||   |\n",
    "'-..-'|_.-;;-._|\n",
    "'-..-'|   ||   |\n",
    "'-..-'|_.-''-._|\"\"\")"
   ]
  },
  {
   "cell_type": "code",
   "execution_count": 11,
   "id": "a6ce1526",
   "metadata": {},
   "outputs": [
    {
     "name": "stdout",
     "output_type": "stream",
     "text": [
      "70\n"
     ]
    }
   ],
   "source": [
    "# 8370 \"Plane\"\n",
    "\n",
    "n1, k1, n2, k2 = map(int,input().split())\n",
    "print(n1 * k1 + n2 * k2)"
   ]
  },
  {
   "cell_type": "code",
   "execution_count": 14,
   "id": "6f8915d4",
   "metadata": {},
   "outputs": [
    {
     "name": "stdout",
     "output_type": "stream",
     "text": [
      "0\n"
     ]
    }
   ],
   "source": [
    "# 25628 \"햄버거 만들기\"\n",
    "\n",
    "a, b = map(int, input().split())\n",
    "\n",
    "print(int(min([a / 2, b])))"
   ]
  },
  {
   "cell_type": "code",
   "execution_count": 17,
   "id": "d53675df",
   "metadata": {},
   "outputs": [
    {
     "name": "stdout",
     "output_type": "stream",
     "text": [
      "9\n"
     ]
    }
   ],
   "source": [
    "# 13136 \"Do Not Touch Anything\"\n",
    "\n",
    "r, c, n = map(int, input().split())\n",
    "\n",
    "print((r // n  + bool(r % n)) * (c // n  + bool(c % n)) )"
   ]
  },
  {
   "cell_type": "code",
   "execution_count": null,
   "id": "bec091f3",
   "metadata": {},
   "outputs": [
    {
     "name": "stdout",
     "output_type": "stream",
     "text": [
      "Objects weighing 100.00 on Earth will weigh 16.70 on the moon.\n",
      "Objects weighing 12.00 on Earth will weigh 2.00 on the moon.\n",
      "Objects weighing 0.12 on Earth will weigh 0.02 on the moon.\n",
      "Objects weighing 120000.00 on Earth will weigh 20040.00 on the moon.\n"
     ]
    }
   ],
   "source": [
    "# 4714 \"Lunacy\"\n",
    "\n",
    "while True:\n",
    "    x = float(input())\n",
    "    y = x * 0.167\n",
    "    if x >= 0:\n",
    "        print(f'Objects weighing {x:.2f} on Earth will weigh {y:.2f} on the moon.')\n",
    "    else:\n",
    "        break"
   ]
  },
  {
   "cell_type": "code",
   "execution_count": 27,
   "id": "311b482a",
   "metadata": {},
   "outputs": [
    {
     "name": "stdout",
     "output_type": "stream",
     "text": [
      "10 is even\n",
      "9 is odd\n",
      "-5 is odd\n"
     ]
    }
   ],
   "source": [
    "# 10480 \"Oddities\"\n",
    "\n",
    "n = int(input())\n",
    "\n",
    "for _ in range(n):\n",
    "    x = int(input())\n",
    "    print(f'{x} is odd' if x % 2 else f'{x} is even')"
   ]
  },
  {
   "cell_type": "code",
   "execution_count": null,
   "id": "9a406e05",
   "metadata": {},
   "outputs": [
    {
     "name": "stdout",
     "output_type": "stream",
     "text": [
      "[20, 2, 18, 4, 16, 6, 14, 8, 12, 10, 11, 9, 13, 7, 15, 5, 17, 3, 19, 1]\n"
     ]
    }
   ],
   "source": [
    "# 10804 \"카드 역배치\"\n",
    "\n",
    "l = list(range(1, 21))\n",
    "\n",
    "for i in range(10):\n",
    "    a, b = map(int, input().split())\n",
    "    a -= 1\n",
    "    b -= 1\n",
    "    l[a: b+1] = l[b:None if a==0 else a-1: -1]\n",
    "print(*l)"
   ]
  },
  {
   "cell_type": "code",
   "execution_count": 5,
   "id": "3e7f3f3a",
   "metadata": {},
   "outputs": [
    {
     "name": "stdout",
     "output_type": "stream",
     "text": [
      "right\n",
      "wrong\n",
      "right\n"
     ]
    }
   ],
   "source": [
    "# 4153 \"직각삼각형\"\n",
    "\n",
    "while True:\n",
    "    l = list(map(int, input().split()))\n",
    "    if set(l) == {0}:\n",
    "        break\n",
    "    else:\n",
    "        m = max(l)\n",
    "        l.remove(m)\n",
    "        if l[0] ** 2 + l[1] ** 2 == m ** 2:\n",
    "            print('right')\n",
    "        else:\n",
    "            print('wrong')"
   ]
  },
  {
   "cell_type": "code",
   "execution_count": null,
   "id": "40511b6d",
   "metadata": {},
   "outputs": [
    {
     "name": "stdout",
     "output_type": "stream",
     "text": [
      "497\n"
     ]
    }
   ],
   "source": [
    "# 2798 \"블랙잭\"\n",
    "\n",
    "import sys\n",
    "\n",
    "n, m = map(int, input().split())\n",
    "l = list(map(int, input().split()))\n",
    "\n",
    "best = 0\n",
    "for a in range(n):\n",
    "    for b in range(a+1, n):\n",
    "        for c in range(b+1, n):\n",
    "            s = l[a] + l[b] + l[c]\n",
    "            if s <= m and s > best:\n",
    "                best = s\n",
    "                if best == m:  # 최적\n",
    "                    print(best)\n",
    "                    sys.exit(0)\n",
    "                    \n",
    "print(best)"
   ]
  },
  {
   "cell_type": "code",
   "execution_count": 2,
   "id": "9984d1e4",
   "metadata": {},
   "outputs": [
    {
     "name": "stdout",
     "output_type": "stream",
     "text": [
      "U\n"
     ]
    }
   ],
   "source": [
    "# 32929 \"UOS 문자열\"\n",
    "\n",
    "i = int(input())\n",
    "\n",
    "if i % 3 == 1:\n",
    "    print(\"U\")\n",
    "elif i % 3 == 2:\n",
    "    print(\"O\")\n",
    "else:\n",
    "    print(\"S\")"
   ]
  },
  {
   "cell_type": "code",
   "execution_count": 5,
   "id": "49bb3615",
   "metadata": {},
   "outputs": [
    {
     "name": "stdout",
     "output_type": "stream",
     "text": [
      "30\n"
     ]
    }
   ],
   "source": [
    "# 32260 \"A + B\"\n",
    "\n",
    "print(sum(map(int, input().split())))"
   ]
  },
  {
   "cell_type": "code",
   "execution_count": null,
   "id": "24489351",
   "metadata": {},
   "outputs": [],
   "source": [
    "# 11047 \"동전 0\"\n",
    "\n",
    "import sys\n",
    "\n",
    "n, k = map(int, sys.stdin.readline().split())\n",
    "a = [int(sys.stdin.readline()) for _ in range(n)]\n",
    "\n",
    "i = n - 1\n",
    "while i >= 0 and a[i] > k:\n",
    "    i -= 1\n",
    "\n",
    "c = 0\n",
    "while k > 0 and i >= 0:\n",
    "    if a[i] <= k:\n",
    "        c += k // a[i]\n",
    "        k %= a[i]\n",
    "    i -= 1\n",
    "\n",
    "print(c)"
   ]
  },
  {
   "cell_type": "code",
   "execution_count": 3,
   "id": "b6a08743",
   "metadata": {},
   "outputs": [
    {
     "name": "stdout",
     "output_type": "stream",
     "text": [
      "2700\n"
     ]
    }
   ],
   "source": [
    "# 30030 \"스위트콘 가격 구하기\"\n",
    "\n",
    "print(int(int(input()) / 11 * 10))"
   ]
  },
  {
   "cell_type": "code",
   "execution_count": null,
   "id": "7a5c0fb9",
   "metadata": {},
   "outputs": [
    {
     "name": "stdout",
     "output_type": "stream",
     "text": [
      "2\n"
     ]
    }
   ],
   "source": [
    "# 2863 \"이게 분수? 성공다국어\"\n",
    "\n",
    "a, b = map(int, input().split())\n",
    "c, d = map(int, input().split())\n",
    "l = [a, b, c, d]\n",
    "m = []\n",
    "\n",
    "def value(t):\n",
    "    return t[0] / t[2] + t[1] / t[3]\n",
    "\n",
    "for _ in range(4):\n",
    "    m.append(value(l))\n",
    "    # 시계 90도 회전: [a b; c d] -> [c a; d b] => [c, a, d, b]\n",
    "    l = [l[2], l[0], l[3], l[1]]\n",
    "\n",
    "print(m.index(max(m)))"
   ]
  },
  {
   "cell_type": "code",
   "execution_count": null,
   "id": "3fa0353c",
   "metadata": {},
   "outputs": [
    {
     "name": "stdout",
     "output_type": "stream",
     "text": [
      "wRONGaNSWER\n"
     ]
    }
   ],
   "source": [
    "# 2744 \"대소문자 바꾸기\"\n",
    "\n",
    "word = input()\n",
    "\n",
    "print(word.swapcase())\n",
    "\n",
    "# print(''.join(c.lower() if c.isupper() else c.upper() for c in s))"
   ]
  },
  {
   "cell_type": "code",
   "execution_count": 2,
   "id": "09db69f2",
   "metadata": {},
   "outputs": [
    {
     "name": "stdout",
     "output_type": "stream",
     "text": [
      "10\n",
      "0\n"
     ]
    }
   ],
   "source": [
    "# 1271 \"엄청난 부자2\"\n",
    "\n",
    "n, m = map(int, input().split())\n",
    "\n",
    "print(n // m)\n",
    "print(n % m)"
   ]
  },
  {
   "cell_type": "code",
   "execution_count": 3,
   "id": "a6471bbb",
   "metadata": {},
   "outputs": [
    {
     "data": {
      "text/plain": [
       "5"
      ]
     },
     "execution_count": 3,
     "metadata": {},
     "output_type": "execute_result"
    }
   ],
   "source": [
    "# 2869 \"달팽이는 올라가고 싶다 다국어\"\n",
    "\n",
    "a, b, v = 2, 1, 5\n",
    "\n",
    "5 * 2 - 5 * 1"
   ]
  },
  {
   "cell_type": "code",
   "execution_count": 1,
   "id": "46f528e1",
   "metadata": {},
   "outputs": [
    {
     "name": "stdout",
     "output_type": "stream",
     "text": [
      ":fan::fan::fan:\n",
      ":fan::appa::fan:\n",
      ":fan::fan::fan:\n"
     ]
    }
   ],
   "source": [
    "# 14581 \"팬들에게 둘러싸인 홍준\"\n",
    "\n",
    "input_id = input()\n",
    "\n",
    "print(\":fan::fan::fan:\")\n",
    "print(f\":fan::{input_id}::fan:\")\n",
    "print(\":fan::fan::fan:\")"
   ]
  },
  {
   "cell_type": "code",
   "execution_count": 3,
   "id": "5b12a5ef",
   "metadata": {},
   "outputs": [
    {
     "name": "stdout",
     "output_type": "stream",
     "text": [
      "18\n"
     ]
    }
   ],
   "source": [
    "# 28444 \"HI-ARC=?\"\n",
    "\n",
    "h, i, a, r, c = map(int, input().split())\n",
    "\n",
    "print(h * i - a * r * c)"
   ]
  },
  {
   "cell_type": "code",
   "execution_count": 18,
   "id": "dc1e76af",
   "metadata": {},
   "outputs": [
    {
     "name": "stdout",
     "output_type": "stream",
     "text": [
      "8\n",
      "A B C F G H L M\n"
     ]
    }
   ],
   "source": [
    "# 32154 \"SUAPC 2024 Winter\"\n",
    "\n",
    "N = [{1: 'A B C D E F G H J L M'}, \n",
    "     {2: 'A C E F G H I L M'},\n",
    "     {3: 'A C E F G H I L M'},\n",
    "     {4: 'A B C E F G H L M'},\n",
    "     {5: 'A C E F G H L M'},\n",
    "     {6: 'A C E F G H L M'},\n",
    "     {7: 'A C E F G H L M'},\n",
    "     {8: 'A C E F G H L M'},\n",
    "     {9: 'A C E F G H L M'},\n",
    "     {10: 'A B C F G H L M'},\n",
    "]\n",
    "\n",
    "input_N = int(input())\n",
    "\n",
    "for i in N:\n",
    "    if input_N in i.keys():\n",
    "        print(len(i[input_N].split()))\n",
    "        print(i[input_N])"
   ]
  },
  {
   "cell_type": "code",
   "execution_count": 22,
   "id": "18ad0dd4",
   "metadata": {},
   "outputs": [
    {
     "name": "stdout",
     "output_type": "stream",
     "text": [
      "0\n"
     ]
    }
   ],
   "source": [
    "# 10156 \"과자\"\n",
    "\n",
    "k, n, m = map(int, input().split())\n",
    "\n",
    "need = k * n - m\n",
    "\n",
    "print(need if need > 0 else 0)"
   ]
  },
  {
   "cell_type": "code",
   "execution_count": 26,
   "id": "ad2087d3",
   "metadata": {},
   "outputs": [
    {
     "name": "stdout",
     "output_type": "stream",
     "text": [
      "588107520\n"
     ]
    }
   ],
   "source": [
    "# 28352 \"10!\"\n",
    "\n",
    "n = int(input())\n",
    "s = 1\n",
    "\n",
    "while 0 < n:\n",
    "    s *= n\n",
    "    n -= 1\n",
    "\n",
    "print(int(s / 60 / 60 / 24 / 7))"
   ]
  },
  {
   "cell_type": "code",
   "execution_count": null,
   "id": "4ad98dd7",
   "metadata": {},
   "outputs": [],
   "source": [
    "# 32941 \"왜 맘대로 예약하냐고\"\n",
    "\n",
    "import sys\n",
    "\n",
    "t, x = map(int, sys.stdin.readline().split())\n",
    "n = int(sys.stdin.readline())\n",
    "\n",
    "for _ in range(n):\n",
    "    _ = sys.stdin.readline()\n",
    "    l = list(map(int, sys.stdin.readline().split()))\n",
    "    if x not in l:\n",
    "        print(\"NO\")\n",
    "        sys.exit(0)\n",
    "\n",
    "print('YES')"
   ]
  },
  {
   "cell_type": "code",
   "execution_count": null,
   "id": "f35c5217",
   "metadata": {},
   "outputs": [],
   "source": [
    "# 10214 \"Baseball\"\n",
    "\n",
    "import sys\n",
    "\n",
    "t = int(sys.stdin.readline())\n",
    "\n",
    "for _ in range(t):\n",
    "    y_total, k_total = 0, 0\n",
    "    for _ in range(9):\n",
    "        y, k = map(int, sys.stdin.readline().split())\n",
    "        y_total += y\n",
    "        k_total += k\n",
    "    if y_total > k_total:\n",
    "        print(\"Yonsei\")\n",
    "    elif y_total < k_total:\n",
    "        print(\"Korea\")\n",
    "    else:\n",
    "        print(\"Draw\")"
   ]
  },
  {
   "cell_type": "code",
   "execution_count": null,
   "id": "65cb8b80",
   "metadata": {},
   "outputs": [
    {
     "data": {
      "text/plain": [
       "['but',\n",
       " 'cannot',\n",
       " 'hesitate',\n",
       " 'i',\n",
       " 'im',\n",
       " 'it',\n",
       " 'more',\n",
       " 'no',\n",
       " 'wait',\n",
       " 'wont',\n",
       " 'yours']"
      ]
     },
     "execution_count": 10,
     "metadata": {},
     "output_type": "execute_result"
    }
   ],
   "source": [
    "# 1181 \"단어 정렬\"\n",
    "\n",
    "import sys\n",
    "\n",
    "n = int(sys.stdin.readline())\n",
    "words = {sys.stdin.readline().strip() for _ in range(n)}\n",
    "for w in sorted(words, key=lambda s: (len(s), s)):\n",
    "    print(w)"
   ]
  },
  {
   "cell_type": "code",
   "execution_count": 1,
   "id": "4a431a2c",
   "metadata": {},
   "outputs": [
    {
     "name": "stdout",
     "output_type": "stream",
     "text": [
      "ascending\n"
     ]
    }
   ],
   "source": [
    "# 2920 \"음계\"\n",
    "\n",
    "l = list(map(int, input().split()))\n",
    "\n",
    "if l == list(range(1, 9)):\n",
    "    print(\"ascending\")\n",
    "elif l == sorted(list(range(1, 9)), reverse=True):\n",
    "    print(\"descending\")\n",
    "else:\n",
    "    print(\"mixed\")"
   ]
  },
  {
   "cell_type": "code",
   "execution_count": null,
   "id": "8ec566b6",
   "metadata": {},
   "outputs": [
    {
     "name": "stdout",
     "output_type": "stream",
     "text": [
      "[1, 2, 3] [4, 5]\n"
     ]
    }
   ],
   "source": [
    "# 17219 \"비밀번호 찾기\"\n",
    "\n",
    "import sys\n",
    "\n",
    "n, m = map(int, sys.stdin.readline().split())\n",
    "lines = sys.stdin.read().splitlines()\n",
    "\n",
    "site_pw = lines[:n]\n",
    "pw = lines[n:]\n",
    "\n",
    "d = {}\n",
    "\n",
    "for i in site_pw:\n",
    "    s, p = i.split()\n",
    "    d[s] = p\n",
    "    \n",
    "print('\\n'.join(d[j] for j in pw))"
   ]
  },
  {
   "cell_type": "code",
   "execution_count": 52,
   "id": "46ee6c56",
   "metadata": {},
   "outputs": [
    {
     "name": "stdout",
     "output_type": "stream",
     "text": [
      "3\n"
     ]
    }
   ],
   "source": [
    "# 1463 \"1로 만들기\"\n",
    "\n",
    "n = int(input())\n",
    "dp = [0] * (n + 1)  # dp[i]: i를 1로 만드는 최소 연산 횟수\n",
    "# dp[1] = 0\n",
    "\n",
    "for i in range(2, n + 1):\n",
    "    dp[i] = dp[i - 1] + 1\n",
    "    if i % 2 == 0:\n",
    "        dp[i] = min(dp[i], dp[i // 2] + 1)\n",
    "    if i % 3 == 0:\n",
    "        dp[i] = min(dp[i], dp[i // 3] + 1)\n",
    "\n",
    "print(dp[n])"
   ]
  },
  {
   "cell_type": "code",
   "execution_count": null,
   "id": "10814",
   "metadata": {},
   "outputs": [],
   "source": [
    "# 10814 \"나이순 정렬\"\n",
    "\n",
    "import sys\n",
    "\n",
    "n = int(sys.stdin.readline())\n",
    "\n",
    "people = []\n",
    "for _ in range(n):\n",
    "    age, name = sys.stdin.readline().strip().split()\n",
    "    people.append((int(age), name))\n",
    "\n",
    "people.sort(key=lambda x: x[0])\n",
    "\n",
    "for age, name in people:\n",
    "    print(age, name)"
   ]
  },
  {
   "cell_type": "code",
   "execution_count": null,
   "id": "e7c06e4a",
   "metadata": {},
   "outputs": [],
   "source": [
    "# 2108 \"통계학\"\n",
    "\n",
    "import sys\n",
    "from collections import Counter\n",
    "\n",
    "n = int(sys.stdin.readline())\n",
    "numbers = [int(sys.stdin.readline()) for _ in range(n)]\n",
    "\n",
    "# 산술평균\n",
    "mean = round(sum(numbers) / n)\n",
    "print(mean)\n",
    "\n",
    "# 중앙값\n",
    "numbers.sort()\n",
    "median = numbers[n // 2]\n",
    "print(median)\n",
    "\n",
    "# 최빈값\n",
    "counter = Counter(numbers)\n",
    "max_count = max(counter.values())\n",
    "modes = [k for k, v in counter.items() if v == max_count]\n",
    "modes.sort()\n",
    "mode = modes[1] if len(modes) > 1 else modes[0]\n",
    "print(mode)\n",
    "\n",
    "# 범위\n",
    "range_val = max(numbers) - min(numbers)\n",
    "print(range_val)"
   ]
  },
  {
   "cell_type": "code",
   "execution_count": 11,
   "id": "d1c0d5f8",
   "metadata": {},
   "outputs": [
    {
     "name": "stdout",
     "output_type": "stream",
     "text": [
      "2025\n",
      "09\n",
      "04\n"
     ]
    }
   ],
   "source": [
    "# 16170 \"오늘의 날짜는?\"\n",
    "\n",
    "from datetime import date\n",
    "\n",
    "print('\\n'.join(str(date.today()).split('-')))"
   ]
  },
  {
   "cell_type": "code",
   "execution_count": 3,
   "id": "94bde99c",
   "metadata": {},
   "outputs": [
    {
     "name": "stdout",
     "output_type": "stream",
     "text": [
      "2025-09-05\n"
     ]
    }
   ],
   "source": [
    "# 10699 \"오늘 날짜\"\n",
    "\n",
    "from datetime import date\n",
    "\n",
    "print(date.today())"
   ]
  },
  {
   "cell_type": "code",
   "execution_count": null,
   "id": "11723_bit",
   "metadata": {},
   "outputs": [],
   "source": [
    "# 11723 \"집합\" - 비트 연산\n",
    "import sys\n",
    "\n",
    "input = sys.stdin.readline\n",
    "\n",
    "m = int(input())\n",
    "mask = 0\n",
    "out = []\n",
    "\n",
    "for _ in range(m):\n",
    "    line = input().strip()\n",
    "    if line == \"all\":\n",
    "        mask = (1 << 21) - 2   # 비트 1..20 ON (0번 비트는 미사용)\n",
    "    elif line == \"empty\":\n",
    "        mask = 0\n",
    "    else:\n",
    "        op, xs = line.split()\n",
    "        x = int(xs)\n",
    "        bit = 1 << x\n",
    "        if op == \"add\":\n",
    "            mask |= bit\n",
    "        elif op == \"remove\":\n",
    "            mask &= ~bit\n",
    "        elif op == \"check\":\n",
    "            out.append('1' if (mask & bit) else '0')\n",
    "        elif op == \"toggle\":\n",
    "            mask ^= bit\n",
    "\n",
    "sys.stdout.write(\"\\n\".join(out))"
   ]
  },
  {
   "cell_type": "code",
   "execution_count": null,
   "id": "11723_set",
   "metadata": {},
   "outputs": [],
   "source": [
    "# 11723 \"집합\" - set 사용\n",
    "import sys\n",
    "\n",
    "input = sys.stdin.readline\n",
    "\n",
    "m = int(input())\n",
    "s = set()\n",
    "out = []\n",
    "\n",
    "for _ in range(m):\n",
    "    line = input().strip()\n",
    "    if line == \"all\":\n",
    "        s = set(range(1, 21))\n",
    "    elif line == \"empty\":\n",
    "        s.clear()\n",
    "    else:\n",
    "        op, xs = line.split()\n",
    "        x = int(xs)\n",
    "        if op == \"add\":\n",
    "            s.add(x)\n",
    "        elif op == \"remove\":\n",
    "            s.discard(x)\n",
    "        elif op == \"check\":\n",
    "            out.append('1' if x in s else '0')\n",
    "        elif op == \"toggle\":\n",
    "            if x in s:\n",
    "                s.remove(x)\n",
    "            else:\n",
    "                s.add(x)\n",
    "\n",
    "sys.stdout.write(\"\\n\".join(out))"
   ]
  },
  {
   "cell_type": "code",
   "execution_count": 5,
   "id": "d28cef4a",
   "metadata": {},
   "outputs": [
    {
     "name": "stdout",
     "output_type": "stream",
     "text": [
      "-7\n"
     ]
    }
   ],
   "source": [
    "# 15964 \"이상한 기호\"\n",
    "\n",
    "a, b = map(int, input().split())\n",
    "\n",
    "print((a + b) * (a - b))"
   ]
  },
  {
   "cell_type": "code",
   "execution_count": 2,
   "id": "30fe4c03",
   "metadata": {},
   "outputs": [
    {
     "name": "stdout",
     "output_type": "stream",
     "text": [
      "1313652\n"
     ]
    }
   ],
   "source": [
    "# 14928 \"큰 수 (BIG)\"\n",
    "\n",
    "print(int(input()) % 20000303)"
   ]
  },
  {
   "cell_type": "code",
   "execution_count": 5,
   "id": "dd33e277",
   "metadata": {},
   "outputs": [
    {
     "name": "stdout",
     "output_type": "stream",
     "text": [
      "5050\n",
      "25502500\n",
      "25502500\n"
     ]
    }
   ],
   "source": [
    "# 28701 \"세제곱의 합 다국어\"\n",
    "\n",
    "n = int(input()) + 1\n",
    "\n",
    "l = sum([i for i in range(1, n)])\n",
    "\n",
    "print(l)\n",
    "print(l ** 2)\n",
    "print(sum([i ** 3 for i in range(1, n)]))\n"
   ]
  },
  {
   "cell_type": "code",
   "execution_count": 2,
   "id": "b0ef3c1c",
   "metadata": {},
   "outputs": [
    {
     "name": "stdout",
     "output_type": "stream",
     "text": [
      "7\n"
     ]
    }
   ],
   "source": [
    "# 32951 \"AI 선도대학\"\n",
    "\n",
    "print(int(input()) - 2024)"
   ]
  },
  {
   "cell_type": "code",
   "execution_count": 3,
   "id": "17e68bdb",
   "metadata": {},
   "outputs": [
    {
     "name": "stdout",
     "output_type": "stream",
     "text": [
      "310\n"
     ]
    }
   ],
   "source": [
    "# 5596 \"시험 점수\"\n",
    "\n",
    "s = sum(list(map(int, input().split())))\n",
    "t = sum(list(map(int, input().split())))\n",
    "\n",
    "print(s if s >= t else t)"
   ]
  },
  {
   "cell_type": "code",
   "execution_count": null,
   "id": "13b4628e",
   "metadata": {},
   "outputs": [],
   "source": [
    "# 11659 \"구간 합 구하기 4\"\n",
    "\n",
    "import sys\n",
    "\n",
    "n, m = map(int, sys.stdin.readline().split())\n",
    "l = list(map(int, sys.stdin.readline().split()))\n",
    "s = []\n",
    "\n",
    "for _ in range(m):\n",
    "    i, j = map(int, sys.stdin.readline().split())\n",
    "    \n",
    "\n",
    "print('\\n'.join(s))"
   ]
  },
  {
   "cell_type": "code",
   "execution_count": null,
   "id": "f6d94936",
   "metadata": {},
   "outputs": [],
   "source": [
    "# 20053 \"최소, 최대 2\"\n",
    "\n",
    "import sys\n",
    "\n",
    "t = int(sys.stdin.readline())\n",
    "\n",
    "for _ in range(t):\n",
    "    _ = int(sys.stdin.readline())\n",
    "    n = list(map(int, sys.stdin.readline().split()))\n",
    "    print(min(n), max(n))"
   ]
  },
  {
   "cell_type": "code",
   "execution_count": null,
   "id": "7e7cfd43",
   "metadata": {},
   "outputs": [
    {
     "name": "stdout",
     "output_type": "stream",
     "text": [
      "<3, 6, 2, 7, 5, 1, 4>\n"
     ]
    }
   ],
   "source": [
    "# 11866 \"요세푸스 문제 0\"\n",
    "\n",
    "n, k = map(int, input().split())\n",
    "people = list(range(1, n + 1))\n",
    "k_idx = 0\n",
    "j_order = []\n",
    "\n",
    "for i in range(n):\n",
    "\tk_idx = (k_idx + k - 1) % len(people)\n",
    "\tj_order.append(people.pop(k_idx))\n",
    "    \n",
    "print('<' + str(j_order)[1:-1] + '>')"
   ]
  },
  {
   "cell_type": "code",
   "execution_count": 1,
   "id": "86b12b02",
   "metadata": {},
   "outputs": [
    {
     "name": "stdout",
     "output_type": "stream",
     "text": [
      "Naver D2\n"
     ]
    }
   ],
   "source": [
    "# 24883 \"자동완성\"\n",
    "\n",
    "print('Naver D2' if input() in ('N', 'n') else 'Naver Whale')"
   ]
  },
  {
   "cell_type": "code",
   "execution_count": 5,
   "id": "bdabe8d3",
   "metadata": {},
   "outputs": [
    {
     "name": "stdout",
     "output_type": "stream",
     "text": [
      "no\n",
      "yes\n"
     ]
    }
   ],
   "source": [
    "# 1259 \"팰린드롬수\"\n",
    "\n",
    "while True:\n",
    "    n = input()\n",
    "    if n == '0':\n",
    "        break\n",
    "    else:\n",
    "        p = n[::-1]\n",
    "        if p == n:\n",
    "            print('yes')\n",
    "        else:\n",
    "            print('no')"
   ]
  },
  {
   "cell_type": "code",
   "execution_count": 19,
   "id": "6c8dddf5",
   "metadata": {},
   "outputs": [
    {
     "name": "stdout",
     "output_type": "stream",
     "text": [
      "yes\n",
      "yes\n",
      "no\n",
      "no\n",
      "no\n",
      "yes\n",
      "yes\n"
     ]
    }
   ],
   "source": [
    "# 4949 \"균형잡힌 세상\"\n",
    "\n",
    "d = {\"(\": \")\", \"[\": \"]\"}\n",
    "\n",
    "while True:\n",
    "    s = input()\n",
    "    if s == '.':\n",
    "        break\n",
    "\n",
    "    tmp = []\n",
    "    ok = True \n",
    "    b = [i for i in s if i in (\"(\", \")\", \"[\", \"]\")]\n",
    "\n",
    "    for i in b:\n",
    "        if i in d:\n",
    "            tmp.append(i)\n",
    "        else:\n",
    "            if not tmp or d[tmp[-1]] != i: \n",
    "                ok = False\n",
    "                break\n",
    "            tmp.pop()\n",
    "\n",
    "    print('yes' if ok and not tmp else 'no')"
   ]
  },
  {
   "cell_type": "code",
   "execution_count": 9,
   "id": "878cd46a",
   "metadata": {},
   "outputs": [
    {
     "name": "stdout",
     "output_type": "stream",
     "text": [
      "[55, -50, 40]\n"
     ]
    }
   ],
   "source": [
    "# 1541 \"잃어버린 괄호\"\n",
    "\n",
    "s = input()\n",
    "\n",
    "num = ''\n",
    "result = []\n",
    "\n",
    "for i in s:\n",
    "    if i.isdigit():\n",
    "        num += i\n",
    "    else:\n",
    "        result.append(int(num))\n",
    "        num = i\n",
    "\n",
    "result.append(int(num))\n",
    "\n",
    "print(result)"
   ]
  },
  {
   "cell_type": "code",
   "execution_count": 27,
   "id": "bed5eca4",
   "metadata": {},
   "outputs": [
    {
     "name": "stdout",
     "output_type": "stream",
     "text": [
      "5\n",
      "4\n",
      "3\n",
      "2\n",
      "1\n"
     ]
    }
   ],
   "source": [
    "# 2742 \"기찍 N\"\n",
    "\n",
    "print('\\n'.join([str(i) for i in range(1, int(input()) + 1)][::-1]))"
   ]
  },
  {
   "cell_type": "code",
   "execution_count": null,
   "id": "83a5266e",
   "metadata": {},
   "outputs": [],
   "source": [
    "# 29766 \"DKSH 찾기\"\n",
    "\n",
    "print(input().count(\"DKSH\"))"
   ]
  },
  {
   "cell_type": "code",
   "execution_count": 24,
   "id": "71b19970",
   "metadata": {},
   "outputs": [
    {
     "name": "stdout",
     "output_type": "stream",
     "text": [
      "bas je dosadna ova kemija \n"
     ]
    }
   ],
   "source": [
    "# 2954 \"창영이의 일기장\"\n",
    "\n",
    "s = input()\n",
    "ns = ''\n",
    "i = 0\n",
    "\n",
    "while i < len(s):\n",
    "    if s[i] in ('a', 'e', 'i', 'o', 'u'):\n",
    "        ns += s[i]\n",
    "        i += 3\n",
    "    else:\n",
    "        ns += s[i]\n",
    "        i += 1\n",
    "        \n",
    "print(ns)"
   ]
  },
  {
   "cell_type": "code",
   "execution_count": null,
   "id": "a5b7d097",
   "metadata": {},
   "outputs": [],
   "source": [
    "# 2108 \"통계학 성공\"\n",
    "\n",
    "import sys\n",
    "\n",
    "def solve():\n",
    "    # 1. 입력 처리: N과 N개의 정수들을 입력받습니다.\n",
    "    n = int(sys.stdin.readline())\n",
    "    numbers = []\n",
    "    for _ in range(n):\n",
    "        numbers.append(int(sys.stdin.readline()))\n",
    "\n",
    "    # 2. 산술 평균 계산\n",
    "    # round() 함수는 0.5일 때 짝수로 반올림하는 특징(사사오입)이 있습니다.\n",
    "    # 따라서, 올바른 반올림을 위해 0.5를 더하거나 빼는 트릭을 사용합니다.\n",
    "    avg = sum(numbers) / n\n",
    "    if avg >= 0:\n",
    "        print(int(avg + 0.5))\n",
    "    else:\n",
    "        print(int(avg - 0.5))\n",
    "\n",
    "    # 3. 중앙값 계산\n",
    "    # 중앙값을 찾기 위해 리스트를 정렬합니다.\n",
    "    numbers.sort()\n",
    "    median = numbers[n // 2]\n",
    "    print(median)\n",
    "\n",
    "    # 4. 최빈값 계산\n",
    "    # 각 숫자의 빈도수를 저장하기 위한 딕셔너리(frequency)를 사용합니다.\n",
    "    # 입력 정수의 절댓값이 4000을 넘지 않으므로, -4000부터 4000까지의 인덱스를 갖는 배열로도 가능합니다.\n",
    "    # 여기서는 딕셔너리를 사용하여 메모리를 효율적으로 사용합니다.\n",
    "    frequency = {}\n",
    "    for num in numbers:\n",
    "        if num in frequency:\n",
    "            frequency[num] += 1\n",
    "        else:\n",
    "            frequency[num] = 1\n",
    "\n",
    "    # 최빈 빈도수를 찾습니다.\n",
    "    max_freq = 0\n",
    "    for freq in frequency.values():\n",
    "        if freq > max_freq:\n",
    "            max_freq = freq\n",
    "\n",
    "    # 최빈값을 모두 찾아서 리스트에 저장합니다.\n",
    "    modes = []\n",
    "    for num, freq in frequency.items():\n",
    "        if freq == max_freq:\n",
    "            modes.append(num)\n",
    "    \n",
    "    modes.sort()\n",
    "\n",
    "    # 최빈값이 여러 개일 경우, 두 번째로 작은 값을 출력합니다.\n",
    "    if len(modes) > 1:\n",
    "        print(modes[1])\n",
    "    else:\n",
    "        print(modes[0])\n",
    "\n",
    "    # 5. 범위 계산\n",
    "    # 정렬된 리스트의 가장 큰 값과 가장 작은 값의 차이를 구합니다.\n",
    "    _range = numbers[-1] - numbers[0]\n",
    "    print(_range)\n",
    "\n",
    "solve()"
   ]
  },
  {
   "cell_type": "code",
   "execution_count": 6,
   "id": "bc54ed7d",
   "metadata": {},
   "outputs": [
    {
     "name": "stdout",
     "output_type": "stream",
     "text": [
      "26\n"
     ]
    }
   ],
   "source": [
    "# 31798 \"단원평가\"\n",
    "\n",
    "a, b, c = map(int, input().split())\n",
    "\n",
    "if a == 0:\n",
    "    ans = c ** 2 - b\n",
    "elif b == 0:\n",
    "    ans = c ** 2 - a\n",
    "elif c == 0:\n",
    "    ans = (a + b) ** 0.5\n",
    "\n",
    "print(int(ans))"
   ]
  },
  {
   "cell_type": "code",
   "execution_count": 2,
   "id": "455adbe1",
   "metadata": {},
   "outputs": [
    {
     "name": "stdout",
     "output_type": "stream",
     "text": [
      "2\n",
      "29\n"
     ]
    }
   ],
   "source": [
    "# 31403 \"A + B - C\"\n",
    "\n",
    "a = input()\n",
    "b = input()\n",
    "c = input()\n",
    "\n",
    "print(int(a) + int(b) - int(c))\n",
    "print(int(a + b) - int(c))"
   ]
  },
  {
   "cell_type": "code",
   "execution_count": null,
   "id": "c7b047ad",
   "metadata": {},
   "outputs": [],
   "source": [
    "# 28702 \"FizzBuzz\" \n",
    "\n"
   ]
  },
  {
   "cell_type": "code",
   "execution_count": 3,
   "id": "17819755",
   "metadata": {},
   "outputs": [
    {
     "name": "stdout",
     "output_type": "stream",
     "text": [
      "0\n"
     ]
    }
   ],
   "source": [
    "# 15963 \"CASIO\"\n",
    "\n",
    "n, m = input().split()\n",
    "\n",
    "print(1 if n == m else 0)"
   ]
  },
  {
   "cell_type": "code",
   "execution_count": 4,
   "id": "58ae61ff",
   "metadata": {},
   "outputs": [
    {
     "name": "stdout",
     "output_type": "stream",
     "text": [
      "*****\n",
      "****\n",
      "***\n",
      "**\n",
      "*\n"
     ]
    }
   ],
   "source": [
    "# 2440 \"별 찍기 - 3\"\n",
    "\n",
    "print(\"\\n\".join([i * '*' for i in range(int(input()), 0, -1)]))"
   ]
  },
  {
   "cell_type": "code",
   "execution_count": 2,
   "id": "857250b6",
   "metadata": {},
   "outputs": [
    {
     "name": "stdout",
     "output_type": "stream",
     "text": [
      "*****\n",
      " ****\n",
      "  ***\n",
      "   **\n",
      "    *\n"
     ]
    }
   ],
   "source": [
    "# 2441 \"별 찍기 - 4\"\n",
    "\n",
    "n = int(input())\n",
    "print(\"\\n\".join([(n - i) * ' ' + i * '*' for i in range(n, 0, -1)]))"
   ]
  },
  {
   "cell_type": "code",
   "execution_count": 4,
   "id": "ef7f2a9c",
   "metadata": {},
   "outputs": [
    {
     "name": "stdout",
     "output_type": "stream",
     "text": [
      "5\n",
      "0\n",
      "1\n",
      "0\n",
      "0\n",
      "0\n",
      "0\n",
      "1\n",
      "0\n",
      "11\n"
     ]
    }
   ],
   "source": [
    "# 21567 \"숫자의 개수 2\"\n",
    "\n",
    "a = int(input())\n",
    "b = int(input())\n",
    "c = int(input())\n",
    "\n",
    "\n",
    "m = str(a * b * c)\n",
    "\n",
    "for i in range (10):\n",
    "    print(m.count(str(i)))"
   ]
  },
  {
   "cell_type": "code",
   "execution_count": 6,
   "id": "3dcb4d4d",
   "metadata": {},
   "outputs": [
    {
     "name": "stdout",
     "output_type": "stream",
     "text": [
      "34\n",
      "30\n"
     ]
    }
   ],
   "source": [
    "# 2587 \"대표값\"\n",
    "\n",
    "l = []\n",
    "\n",
    "for _ in range(5):\n",
    "    l.append(int(input()))\n",
    "\n",
    "l.sort()\n",
    "\n",
    "print(int(sum(l) / 5))\n",
    "print(l[2])"
   ]
  },
  {
   "cell_type": "code",
   "execution_count": null,
   "id": "f40abdac",
   "metadata": {},
   "outputs": [],
   "source": [
    "import sys\n",
    "\n",
    "for line in sys.stdin:\n",
    "    line = line.rstrip('\\n')\n",
    "    if line == '#': \n",
    "        break\n",
    "\n",
    "    letter, sentence = line.split(' ', 1) \n",
    "    letter = letter.lower()\n",
    "    cnt = sum(1 for ch in sentence if ch.lower() == letter)\n",
    "    print(letter, cnt)"
   ]
  },
  {
   "cell_type": "code",
   "execution_count": 10,
   "id": "2519435c",
   "metadata": {},
   "outputs": [
    {
     "name": "stdout",
     "output_type": "stream",
     "text": [
      "0\n"
     ]
    }
   ],
   "source": [
    "# 30468 \"호반우가 학교에 지각한 이유 1\"\n",
    "\n",
    "s, d, i, l, n = map(int, input().split())\n",
    "\n",
    "mean = (n - (s + d + i + l) / 4) // 0.25\n",
    "\n",
    "print(int(mean) if mean >= 0 else 0)"
   ]
  },
  {
   "cell_type": "code",
   "execution_count": 5,
   "id": "c7515010",
   "metadata": {},
   "outputs": [
    {
     "name": "stdout",
     "output_type": "stream",
     "text": [
      "2\n"
     ]
    }
   ],
   "source": [
    "# 32184 \"디미고에 가고 싶어!\"\n",
    "\n",
    "start, end = map(int, input().split())\n",
    "\n",
    "pages = list(range(start, end + 1))\n",
    "\n",
    "cnt = 0\n",
    "\n",
    "if len(pages) == 1:\n",
    "    cnt = 1\n",
    "else:\n",
    "    if pages[0] % 2 == 0:\n",
    "        pages.pop(0)\n",
    "        cnt += 1\n",
    "    if pages[-1] % 2:\n",
    "        pages.pop(-1)\n",
    "        cnt += 1\n",
    "    cnt += int(len(pages) / 2)\n",
    "\n",
    "print(cnt)"
   ]
  },
  {
   "cell_type": "code",
   "execution_count": 6,
   "id": "b7750536",
   "metadata": {},
   "outputs": [
    {
     "name": "stdout",
     "output_type": "stream",
     "text": [
      "1\n"
     ]
    }
   ],
   "source": [
    "# 32184 \"디미고에 가고 싶어!\"\n",
    "\n",
    "a, b = map(int, input().split())\n",
    "\n",
    "pages = b - a + 1\n",
    "pairs = b // 2 - a // 2\n",
    "\n",
    "print(pages - pairs)"
   ]
  }
 ],
 "metadata": {
  "kernelspec": {
   "display_name": "Python 3",
   "language": "python",
   "name": "python3"
  },
  "language_info": {
   "codemirror_mode": {
    "name": "ipython",
    "version": 3
   },
   "file_extension": ".py",
   "mimetype": "text/x-python",
   "name": "python",
   "nbconvert_exporter": "python",
   "pygments_lexer": "ipython3",
   "version": "3.13.3"
  }
 },
 "nbformat": 4,
 "nbformat_minor": 5
}

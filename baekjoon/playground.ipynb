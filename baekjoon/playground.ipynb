{
 "cells": [
  {
   "cell_type": "code",
   "execution_count": 3,
   "id": "1fa47c80",
   "metadata": {},
   "outputs": [
    {
     "name": "stdout",
     "output_type": "stream",
     "text": [
      "1\n"
     ]
    }
   ],
   "source": [
    "# 2475 \"검증수\"\n",
    "\n",
    "l = list(map(int, input().split()))\n",
    "\n",
    "print(sum([i ** 2 for i in l]) % 10)"
   ]
  },
  {
   "cell_type": "code",
   "execution_count": null,
   "id": "aa19b2bd",
   "metadata": {},
   "outputs": [],
   "source": [
    "# 8958 \"OX퀴즈\"\n",
    "\n",
    "import sys\n",
    "\n",
    "t = int(sys.stdin.readline())\n",
    "\n",
    "for _ in range(t):\n",
    "    l = sys.stdin.readline().rstrip()\n",
    "    total = 0\n",
    "    score = 0\n",
    "    for i in l:\n",
    "        if i == 'O':\n",
    "            score += 1\n",
    "            total += score\n",
    "        else:\n",
    "            score = 0\n",
    "            total += score\n",
    "\n",
    "    print(total)"
   ]
  },
  {
   "cell_type": "code",
   "execution_count": 7,
   "id": "e3e4ca1b",
   "metadata": {},
   "outputs": [
    {
     "name": "stdout",
     "output_type": "stream",
     "text": [
      "1\n",
      "2\n",
      "3\n",
      "4\n",
      "5\n"
     ]
    }
   ],
   "source": [
    "# 2741 \"N 찍기\"\n",
    "\n",
    "n = int(input())\n",
    "\n",
    "for i in range(n):\n",
    "    print(i + 1)"
   ]
  },
  {
   "cell_type": "code",
   "execution_count": 9,
   "id": "57182d3b",
   "metadata": {},
   "outputs": [
    {
     "name": "stdout",
     "output_type": "stream",
     "text": [
      "       _.-;;-._\n",
      "'-..-'|   ||   |\n",
      "'-..-'|_.-;;-._|\n",
      "'-..-'|   ||   |\n",
      "'-..-'|_.-''-._|\n"
     ]
    }
   ],
   "source": [
    "# 5338 \"마이크로소프트 로고\"\n",
    "print(r\"\"\"       _.-;;-._\n",
    "'-..-'|   ||   |\n",
    "'-..-'|_.-;;-._|\n",
    "'-..-'|   ||   |\n",
    "'-..-'|_.-''-._|\"\"\")"
   ]
  },
  {
   "cell_type": "code",
   "execution_count": 11,
   "id": "a6ce1526",
   "metadata": {},
   "outputs": [
    {
     "name": "stdout",
     "output_type": "stream",
     "text": [
      "70\n"
     ]
    }
   ],
   "source": [
    "# 8370 \"Plane\"\n",
    "\n",
    "n1, k1, n2, k2 = map(int,input().split())\n",
    "print(n1 * k1 + n2 * k2)"
   ]
  },
  {
   "cell_type": "code",
   "execution_count": 14,
   "id": "6f8915d4",
   "metadata": {},
   "outputs": [
    {
     "name": "stdout",
     "output_type": "stream",
     "text": [
      "0\n"
     ]
    }
   ],
   "source": [
    "# 25628 \"햄버거 만들기\"\n",
    "\n",
    "a, b = map(int, input().split())\n",
    "\n",
    "print(int(min([a / 2, b])))"
   ]
  },
  {
   "cell_type": "code",
   "execution_count": 17,
   "id": "d53675df",
   "metadata": {},
   "outputs": [
    {
     "name": "stdout",
     "output_type": "stream",
     "text": [
      "9\n"
     ]
    }
   ],
   "source": [
    "# 13136 \"Do Not Touch Anything\"\n",
    "\n",
    "r, c, n = map(int, input().split())\n",
    "\n",
    "print((r // n  + bool(r % n)) * (c // n  + bool(c % n)) )"
   ]
  },
  {
   "cell_type": "code",
   "execution_count": null,
   "id": "bec091f3",
   "metadata": {},
   "outputs": [
    {
     "name": "stdout",
     "output_type": "stream",
     "text": [
      "Objects weighing 100.00 on Earth will weigh 16.70 on the moon.\n",
      "Objects weighing 12.00 on Earth will weigh 2.00 on the moon.\n",
      "Objects weighing 0.12 on Earth will weigh 0.02 on the moon.\n",
      "Objects weighing 120000.00 on Earth will weigh 20040.00 on the moon.\n"
     ]
    }
   ],
   "source": [
    "# 4714 \"Lunacy\"\n",
    "\n",
    "while True:\n",
    "    x = float(input())\n",
    "    y = x * 0.167\n",
    "    if x >= 0:\n",
    "        print(f'Objects weighing {x:.2f} on Earth will weigh {y:.2f} on the moon.')\n",
    "    else:\n",
    "        break"
   ]
  },
  {
   "cell_type": "code",
   "execution_count": 27,
   "id": "311b482a",
   "metadata": {},
   "outputs": [
    {
     "name": "stdout",
     "output_type": "stream",
     "text": [
      "10 is even\n",
      "9 is odd\n",
      "-5 is odd\n"
     ]
    }
   ],
   "source": [
    "# 10480 \"Oddities\"\n",
    "\n",
    "n = int(input())\n",
    "\n",
    "for _ in range(n):\n",
    "    x = int(input())\n",
    "    print(f'{x} is odd' if x % 2 else f'{x} is even')"
   ]
  },
  {
   "cell_type": "code",
   "execution_count": null,
   "id": "9a406e05",
   "metadata": {},
   "outputs": [
    {
     "name": "stdout",
     "output_type": "stream",
     "text": [
      "[20, 2, 18, 4, 16, 6, 14, 8, 12, 10, 11, 9, 13, 7, 15, 5, 17, 3, 19, 1]\n"
     ]
    }
   ],
   "source": [
    "# 10804 \"카드 역배치\"\n",
    "\n",
    "l = list(range(1, 21))\n",
    "\n",
    "for i in range(10):\n",
    "    a, b = map(int, input().split())\n",
    "    a -= 1\n",
    "    b -= 1\n",
    "    l[a: b+1] = l[b:None if a==0 else a-1: -1]\n",
    "print(*l)"
   ]
  },
  {
   "cell_type": "code",
   "execution_count": 5,
   "id": "3e7f3f3a",
   "metadata": {},
   "outputs": [
    {
     "name": "stdout",
     "output_type": "stream",
     "text": [
      "right\n",
      "wrong\n",
      "right\n"
     ]
    }
   ],
   "source": [
    "# 4153 \"직각삼각형\"\n",
    "\n",
    "while True:\n",
    "    l = list(map(int, input().split()))\n",
    "    if set(l) == {0}:\n",
    "        break\n",
    "    else:\n",
    "        m = max(l)\n",
    "        l.remove(m)\n",
    "        if l[0] ** 2 + l[1] ** 2 == m ** 2:\n",
    "            print('right')\n",
    "        else:\n",
    "            print('wrong')"
   ]
  },
  {
   "cell_type": "code",
   "execution_count": null,
   "id": "40511b6d",
   "metadata": {},
   "outputs": [
    {
     "name": "stdout",
     "output_type": "stream",
     "text": [
      "497\n"
     ]
    }
   ],
   "source": [
    "# 2798 \"블랙잭\"\n",
    "\n",
    "import sys\n",
    "\n",
    "n, m = map(int, input().split())\n",
    "l = list(map(int, input().split()))\n",
    "\n",
    "best = 0\n",
    "for a in range(n):\n",
    "    for b in range(a+1, n):\n",
    "        for c in range(b+1, n):\n",
    "            s = l[a] + l[b] + l[c]\n",
    "            if s <= m and s > best:\n",
    "                best = s\n",
    "                if best == m:  # 최적\n",
    "                    print(best)\n",
    "                    sys.exit(0)\n",
    "                    \n",
    "print(best)\n"
   ]
  },
  {
   "cell_type": "code",
   "execution_count": 2,
   "id": "9984d1e4",
   "metadata": {},
   "outputs": [
    {
     "name": "stdout",
     "output_type": "stream",
     "text": [
      "U\n"
     ]
    }
   ],
   "source": [
    "# 32929 \"UOS 문자열\"\n",
    "\n",
    "i = int(input())\n",
    "\n",
    "if i % 3 == 1:\n",
    "    print(\"U\")\n",
    "elif i % 3 == 2:\n",
    "    print(\"O\")\n",
    "else:\n",
    "    print(\"S\")\n"
   ]
  },
  {
   "cell_type": "code",
   "execution_count": 5,
   "id": "49bb3615",
   "metadata": {},
   "outputs": [
    {
     "name": "stdout",
     "output_type": "stream",
     "text": [
      "30\n"
     ]
    }
   ],
   "source": [
    "# 32260 \"A + B\"\n",
    "\n",
    "print(sum(map(int, input().split())))"
   ]
  },
  {
   "cell_type": "code",
   "execution_count": null,
   "id": "24489351",
   "metadata": {},
   "outputs": [],
   "source": [
    "# 11047 \"동전 0\"\n",
    "\n",
    "import sys\n",
    "\n",
    "n, k = map(int, sys.stdin.readline().split())\n",
    "a = [int(sys.stdin.readline()) for _ in range(n)]\n",
    "\n",
    "i = n - 1\n",
    "while i >= 0 and a[i] > k:\n",
    "    i -= 1\n",
    "\n",
    "c = 0\n",
    "while k > 0 and i >= 0:\n",
    "    if a[i] <= k:\n",
    "        c += k // a[i]\n",
    "        k %= a[i]\n",
    "    i -= 1\n",
    "\n",
    "print(c)"
   ]
  },
  {
   "cell_type": "code",
   "execution_count": 3,
   "id": "b6a08743",
   "metadata": {},
   "outputs": [
    {
     "name": "stdout",
     "output_type": "stream",
     "text": [
      "2700\n"
     ]
    }
   ],
   "source": [
    "# 30030 \"스위트콘 가격 구하기\"\n",
    "\n",
    "print(int(int(input()) / 11 * 10))"
   ]
  }
 ],
 "metadata": {
  "kernelspec": {
   "display_name": "Python 3",
   "language": "python",
   "name": "python3"
  },
  "language_info": {
   "codemirror_mode": {
    "name": "ipython",
    "version": 3
   },
   "file_extension": ".py",
   "mimetype": "text/x-python",
   "name": "python",
   "nbconvert_exporter": "python",
   "pygments_lexer": "ipython3",
   "version": "3.13.4"
  }
 },
 "nbformat": 4,
 "nbformat_minor": 5
}

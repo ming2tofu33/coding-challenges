{
 "cells": [
  {
   "cell_type": "code",
   "execution_count": 3,
   "id": "1fa47c80",
   "metadata": {},
   "outputs": [
    {
     "name": "stdout",
     "output_type": "stream",
     "text": [
      "1\n"
     ]
    }
   ],
   "source": [
    "# 2475 \"검증수\"\n",
    "\n",
    "l = list(map(int, input().split()))\n",
    "\n",
    "print(sum([i ** 2 for i in l]) % 10)"
   ]
  },
  {
   "cell_type": "code",
   "execution_count": null,
   "id": "aa19b2bd",
   "metadata": {},
   "outputs": [],
   "source": [
    "# 8958 \"OX퀴즈\"\n",
    "\n",
    "import sys\n",
    "\n",
    "t = int(sys.stdin.readline())\n",
    "\n",
    "for _ in range(t):\n",
    "    l = sys.stdin.readline().rstrip()\n",
    "    total = 0\n",
    "    score = 0\n",
    "    for i in l:\n",
    "        if i == 'O':\n",
    "            score += 1\n",
    "            total += score\n",
    "        else:\n",
    "            score = 0\n",
    "            total += score\n",
    "\n",
    "    print(total)"
   ]
  },
  {
   "cell_type": "markdown",
   "id": "3bc55bd5",
   "metadata": {},
   "source": []
  }
 ],
 "metadata": {
  "kernelspec": {
   "display_name": "Python 3",
   "language": "python",
   "name": "python3"
  },
  "language_info": {
   "codemirror_mode": {
    "name": "ipython",
    "version": 3
   },
   "file_extension": ".py",
   "mimetype": "text/x-python",
   "name": "python",
   "nbconvert_exporter": "python",
   "pygments_lexer": "ipython3",
   "version": "3.13.4"
  }
 },
 "nbformat": 4,
 "nbformat_minor": 5
}
